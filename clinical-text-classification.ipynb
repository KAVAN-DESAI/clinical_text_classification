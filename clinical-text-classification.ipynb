{
 "cells": [
  {
   "cell_type": "markdown",
   "id": "b5d6f2d0",
   "metadata": {
    "papermill": {
     "duration": 0.054169,
     "end_time": "2021-07-21T09:41:37.631727",
     "exception": false,
     "start_time": "2021-07-21T09:41:37.577558",
     "status": "completed"
    },
    "tags": []
   },
   "source": [
    "## 1. Problem Description\n",
    "\n",
    "**Diagnostics Prediction** is a project which aims to automatically predict diagnostics needed for a patient with certain anamnesis\n",
    "\n",
    "The anamnesis is represented by a raw text file with doctor's notes about the patient, including his/her age, complaints described in free way, patient's history and so on. It is unstructured-different sections of one patient anamnesis may be absent in another's\n",
    "\n",
    "The target labels are represented by the name of needed diagnostics procedure\n",
    "\n",
    "**The value** on the solution might be found in helping a doctor to find the optimal solution for diagnostics order. Patient can save time and money, and doctor can serve a patient more efficiently on sparing time for unnecessary diagnostics. Moreover, in difficult cases the algorithm may help a doctor to find a diagnosis faster, which in some cases may be extremely valuable, up to saving lives\n",
    "\n",
    "Theoretically, some regularities found by the algorithm may help medical researchers to find the idea of treating some diseases, based on their unobvious interconnections with some symptoms\n"
   ]
  },
  {
   "cell_type": "markdown",
   "id": "46c7c4fc",
   "metadata": {
    "papermill": {
     "duration": 0.072994,
     "end_time": "2021-07-21T09:41:37.766018",
     "exception": false,
     "start_time": "2021-07-21T09:41:37.693024",
     "status": "completed"
    },
    "tags": []
   },
   "source": [
    "## 2. Environment preparation, data import"
   ]
  },
  {
   "cell_type": "code",
   "execution_count": 1,
   "id": "76af8a00",
   "metadata": {
    "execution": {
     "iopub.execute_input": "2021-07-21T09:41:37.875938Z",
     "iopub.status.busy": "2021-07-21T09:41:37.874747Z",
     "iopub.status.idle": "2021-07-21T09:41:58.646302Z",
     "shell.execute_reply": "2021-07-21T09:41:58.647091Z"
    },
    "papermill": {
     "duration": 20.828734,
     "end_time": "2021-07-21T09:41:58.647512",
     "exception": false,
     "start_time": "2021-07-21T09:41:37.818778",
     "status": "completed"
    },
    "tags": []
   },
   "outputs": [
    {
     "name": "stdout",
     "output_type": "stream",
     "text": [
      "Collecting imblearn\r\n",
      "  Downloading imblearn-0.0-py2.py3-none-any.whl (1.9 kB)\r\n",
      "Requirement already satisfied: imbalanced-learn in /opt/conda/lib/python3.7/site-packages (from imblearn) (0.8.0)\r\n",
      "Requirement already satisfied: joblib>=0.11 in /opt/conda/lib/python3.7/site-packages (from imbalanced-learn->imblearn) (1.0.1)\r\n",
      "Requirement already satisfied: scipy>=0.19.1 in /opt/conda/lib/python3.7/site-packages (from imbalanced-learn->imblearn) (1.6.3)\r\n",
      "Collecting scikit-learn>=0.24\r\n",
      "  Downloading scikit_learn-0.24.2-cp37-cp37m-manylinux2010_x86_64.whl (22.3 MB)\r\n",
      "\u001b[K     |████████████████████████████████| 22.3 MB 4.4 MB/s \r\n",
      "\u001b[?25hRequirement already satisfied: numpy>=1.13.3 in /opt/conda/lib/python3.7/site-packages (from imbalanced-learn->imblearn) (1.19.5)\r\n",
      "Requirement already satisfied: threadpoolctl>=2.0.0 in /opt/conda/lib/python3.7/site-packages (from scikit-learn>=0.24->imbalanced-learn->imblearn) (2.1.0)\r\n",
      "Installing collected packages: scikit-learn, imblearn\r\n",
      "  Attempting uninstall: scikit-learn\r\n",
      "    Found existing installation: scikit-learn 0.23.2\r\n",
      "    Uninstalling scikit-learn-0.23.2:\r\n",
      "      Successfully uninstalled scikit-learn-0.23.2\r\n",
      "\u001b[31mERROR: pip's dependency resolver does not currently take into account all the packages that are installed. This behaviour is the source of the following dependency conflicts.\r\n",
      "pyldavis 3.3.1 requires numpy>=1.20.0, but you have numpy 1.19.5 which is incompatible.\r\n",
      "pdpbox 0.2.1 requires matplotlib==3.1.1, but you have matplotlib 3.4.2 which is incompatible.\r\n",
      "hypertools 0.7.0 requires scikit-learn!=0.22,<0.24,>=0.19.1, but you have scikit-learn 0.24.2 which is incompatible.\u001b[0m\r\n",
      "Successfully installed imblearn-0.0 scikit-learn-0.24.2\r\n",
      "\u001b[33mWARNING: Running pip as root will break packages and permissions. You should install packages reliably by using venv: https://pip.pypa.io/warnings/venv\u001b[0m\r\n"
     ]
    }
   ],
   "source": [
    "!pip install imblearn"
   ]
  },
  {
   "cell_type": "code",
   "execution_count": 2,
   "id": "628def8f",
   "metadata": {
    "execution": {
     "iopub.execute_input": "2021-07-21T09:41:58.868708Z",
     "iopub.status.busy": "2021-07-21T09:41:58.860478Z",
     "iopub.status.idle": "2021-07-21T09:42:08.545791Z",
     "shell.execute_reply": "2021-07-21T09:42:08.545181Z",
     "shell.execute_reply.started": "2021-07-21T07:48:37.372487Z"
    },
    "papermill": {
     "duration": 9.797164,
     "end_time": "2021-07-21T09:42:08.545966",
     "exception": false,
     "start_time": "2021-07-21T09:41:58.748802",
     "status": "completed"
    },
    "tags": []
   },
   "outputs": [
    {
     "data": {
      "text/html": [
       "<style type='text/css'>\n",
       ".datatable table.frame { margin-bottom: 0; }\n",
       ".datatable table.frame thead { border-bottom: none; }\n",
       ".datatable table.frame tr.coltypes td {  color: #FFFFFF;  line-height: 6px;  padding: 0 0.5em;}\n",
       ".datatable .bool    { background: #DDDD99; }\n",
       ".datatable .object  { background: #565656; }\n",
       ".datatable .int     { background: #5D9E5D; }\n",
       ".datatable .float   { background: #4040CC; }\n",
       ".datatable .str     { background: #CC4040; }\n",
       ".datatable .time    { background: #40CC40; }\n",
       ".datatable .row_index {  background: var(--jp-border-color3);  border-right: 1px solid var(--jp-border-color0);  color: var(--jp-ui-font-color3);  font-size: 9px;}\n",
       ".datatable .frame tbody td { text-align: left; }\n",
       ".datatable .frame tr.coltypes .row_index {  background: var(--jp-border-color0);}\n",
       ".datatable th:nth-child(2) { padding-left: 12px; }\n",
       ".datatable .hellipsis {  color: var(--jp-cell-editor-border-color);}\n",
       ".datatable .vellipsis {  background: var(--jp-layout-color0);  color: var(--jp-cell-editor-border-color);}\n",
       ".datatable .na {  color: var(--jp-cell-editor-border-color);  font-size: 80%;}\n",
       ".datatable .sp {  opacity: 0.25;}\n",
       ".datatable .footer { font-size: 9px; }\n",
       ".datatable .frame_dimensions {  background: var(--jp-border-color3);  border-top: 1px solid var(--jp-border-color0);  color: var(--jp-ui-font-color3);  display: inline-block;  opacity: 0.6;  padding: 1px 10px 1px 5px;}\n",
       "</style>\n"
      ],
      "text/plain": [
       "<IPython.core.display.HTML object>"
      ]
     },
     "metadata": {},
     "output_type": "display_data"
    }
   ],
   "source": [
    "# Basic libraries\n",
    "\n",
    "import pandas as pd\n",
    "import numpy as np\n",
    "import re\n",
    "import matplotlib.pyplot as plt\n",
    "import nltk\n",
    "import random\n",
    "import itertools\n",
    "from collections import defaultdict\n",
    "\n",
    "# preprocessing\n",
    "from sklearn.preprocessing import LabelEncoder\n",
    "from sklearn.model_selection import train_test_split, StratifiedKFold\n",
    "from sklearn.feature_extraction.text import CountVectorizer,TfidfVectorizer\n",
    "from itertools import combinations\n",
    "from nltk.tokenize import RegexpTokenizer\n",
    "from nltk.corpus import stopwords\n",
    "from nltk.stem.porter import PorterStemmer\n",
    "import gensim\n",
    "from keras.preprocessing.text import Tokenizer\n",
    "from keras.preprocessing.sequence import pad_sequences\n",
    "from keras.utils import to_categorical\n",
    "from imblearn.under_sampling import NearMiss,RandomUnderSampler\n",
    "from imblearn.over_sampling import SMOTE,ADASYN\n",
    "\n",
    "# Models\n",
    "\n",
    "from sklearn.naive_bayes import MultinomialNB\n",
    "from sklearn.linear_model import LogisticRegressionCV\n",
    "import lightgbm as lgb\n",
    "\n",
    "# Evaluation\n",
    "from sklearn.metrics import f1_score,accuracy_score,precision_score,recall_score,confusion_matrix,make_scorer\n",
    "from lime import lime_text\n",
    "from sklearn.pipeline import make_pipeline\n",
    "from lime.lime_text import LimeTextExplainer\n",
    "\n",
    "import warnings\n",
    "warnings.filterwarnings('ignore')\n",
    "\n",
    "%matplotlib inline"
   ]
  },
  {
   "cell_type": "code",
   "execution_count": 3,
   "id": "8db16bcb",
   "metadata": {
    "execution": {
     "iopub.execute_input": "2021-07-21T09:42:08.737381Z",
     "iopub.status.busy": "2021-07-21T09:42:08.736693Z",
     "iopub.status.idle": "2021-07-21T09:42:09.254733Z",
     "shell.execute_reply": "2021-07-21T09:42:09.255226Z",
     "shell.execute_reply.started": "2021-07-21T07:48:52.538546Z"
    },
    "papermill": {
     "duration": 0.61638,
     "end_time": "2021-07-21T09:42:09.255407",
     "exception": false,
     "start_time": "2021-07-21T09:42:08.639027",
     "status": "completed"
    },
    "tags": []
   },
   "outputs": [
    {
     "name": "stdout",
     "output_type": "stream",
     "text": [
      "(4999, 6)\n"
     ]
    },
    {
     "data": {
      "text/html": [
       "<div>\n",
       "<style scoped>\n",
       "    .dataframe tbody tr th:only-of-type {\n",
       "        vertical-align: middle;\n",
       "    }\n",
       "\n",
       "    .dataframe tbody tr th {\n",
       "        vertical-align: top;\n",
       "    }\n",
       "\n",
       "    .dataframe thead th {\n",
       "        text-align: right;\n",
       "    }\n",
       "</style>\n",
       "<table border=\"1\" class=\"dataframe\">\n",
       "  <thead>\n",
       "    <tr style=\"text-align: right;\">\n",
       "      <th></th>\n",
       "      <th>Unnamed: 0</th>\n",
       "      <th>description</th>\n",
       "      <th>medical_specialty</th>\n",
       "      <th>sample_name</th>\n",
       "      <th>transcription</th>\n",
       "      <th>keywords</th>\n",
       "    </tr>\n",
       "  </thead>\n",
       "  <tbody>\n",
       "    <tr>\n",
       "      <th>0</th>\n",
       "      <td>0</td>\n",
       "      <td>A 23-year-old white female presents with comp...</td>\n",
       "      <td>Allergy / Immunology</td>\n",
       "      <td>Allergic Rhinitis</td>\n",
       "      <td>SUBJECTIVE:,  This 23-year-old white female pr...</td>\n",
       "      <td>allergy / immunology, allergic rhinitis, aller...</td>\n",
       "    </tr>\n",
       "    <tr>\n",
       "      <th>1</th>\n",
       "      <td>1</td>\n",
       "      <td>Consult for laparoscopic gastric bypass.</td>\n",
       "      <td>Bariatrics</td>\n",
       "      <td>Laparoscopic Gastric Bypass Consult - 2</td>\n",
       "      <td>PAST MEDICAL HISTORY:, He has difficulty climb...</td>\n",
       "      <td>bariatrics, laparoscopic gastric bypass, weigh...</td>\n",
       "    </tr>\n",
       "    <tr>\n",
       "      <th>2</th>\n",
       "      <td>2</td>\n",
       "      <td>Consult for laparoscopic gastric bypass.</td>\n",
       "      <td>Bariatrics</td>\n",
       "      <td>Laparoscopic Gastric Bypass Consult - 1</td>\n",
       "      <td>HISTORY OF PRESENT ILLNESS: , I have seen ABC ...</td>\n",
       "      <td>bariatrics, laparoscopic gastric bypass, heart...</td>\n",
       "    </tr>\n",
       "    <tr>\n",
       "      <th>3</th>\n",
       "      <td>3</td>\n",
       "      <td>2-D M-Mode. Doppler.</td>\n",
       "      <td>Cardiovascular / Pulmonary</td>\n",
       "      <td>2-D Echocardiogram - 1</td>\n",
       "      <td>2-D M-MODE: , ,1.  Left atrial enlargement wit...</td>\n",
       "      <td>cardiovascular / pulmonary, 2-d m-mode, dopple...</td>\n",
       "    </tr>\n",
       "    <tr>\n",
       "      <th>4</th>\n",
       "      <td>4</td>\n",
       "      <td>2-D Echocardiogram</td>\n",
       "      <td>Cardiovascular / Pulmonary</td>\n",
       "      <td>2-D Echocardiogram - 2</td>\n",
       "      <td>1.  The left ventricular cavity size and wall ...</td>\n",
       "      <td>cardiovascular / pulmonary, 2-d, doppler, echo...</td>\n",
       "    </tr>\n",
       "  </tbody>\n",
       "</table>\n",
       "</div>"
      ],
      "text/plain": [
       "   Unnamed: 0                                        description  \\\n",
       "0           0   A 23-year-old white female presents with comp...   \n",
       "1           1           Consult for laparoscopic gastric bypass.   \n",
       "2           2           Consult for laparoscopic gastric bypass.   \n",
       "3           3                             2-D M-Mode. Doppler.     \n",
       "4           4                                 2-D Echocardiogram   \n",
       "\n",
       "             medical_specialty                                sample_name  \\\n",
       "0         Allergy / Immunology                         Allergic Rhinitis    \n",
       "1                   Bariatrics   Laparoscopic Gastric Bypass Consult - 2    \n",
       "2                   Bariatrics   Laparoscopic Gastric Bypass Consult - 1    \n",
       "3   Cardiovascular / Pulmonary                    2-D Echocardiogram - 1    \n",
       "4   Cardiovascular / Pulmonary                    2-D Echocardiogram - 2    \n",
       "\n",
       "                                       transcription  \\\n",
       "0  SUBJECTIVE:,  This 23-year-old white female pr...   \n",
       "1  PAST MEDICAL HISTORY:, He has difficulty climb...   \n",
       "2  HISTORY OF PRESENT ILLNESS: , I have seen ABC ...   \n",
       "3  2-D M-MODE: , ,1.  Left atrial enlargement wit...   \n",
       "4  1.  The left ventricular cavity size and wall ...   \n",
       "\n",
       "                                            keywords  \n",
       "0  allergy / immunology, allergic rhinitis, aller...  \n",
       "1  bariatrics, laparoscopic gastric bypass, weigh...  \n",
       "2  bariatrics, laparoscopic gastric bypass, heart...  \n",
       "3  cardiovascular / pulmonary, 2-d m-mode, dopple...  \n",
       "4  cardiovascular / pulmonary, 2-d, doppler, echo...  "
      ]
     },
     "execution_count": 3,
     "metadata": {},
     "output_type": "execute_result"
    }
   ],
   "source": [
    "data = pd.read_csv('../input/medicaltranscriptions/mtsamples.csv')\n",
    "print(data.shape)\n",
    "data.head()"
   ]
  },
  {
   "cell_type": "markdown",
   "id": "599b0d63",
   "metadata": {
    "papermill": {
     "duration": 0.090326,
     "end_time": "2021-07-21T09:42:09.436811",
     "exception": false,
     "start_time": "2021-07-21T09:42:09.346485",
     "status": "completed"
    },
    "tags": []
   },
   "source": [
    "The dataset contains of several categorics, but we will need only **transcriptions** which is the anamnesis, and **medical_specialty**, which is the target diagnostics type"
   ]
  },
  {
   "cell_type": "code",
   "execution_count": 4,
   "id": "ba3fee8c",
   "metadata": {
    "execution": {
     "iopub.execute_input": "2021-07-21T09:42:09.629491Z",
     "iopub.status.busy": "2021-07-21T09:42:09.628454Z",
     "iopub.status.idle": "2021-07-21T09:42:09.633320Z",
     "shell.execute_reply": "2021-07-21T09:42:09.632737Z",
     "shell.execute_reply.started": "2021-07-21T07:48:55.079293Z"
    },
    "papermill": {
     "duration": 0.10588,
     "end_time": "2021-07-21T09:42:09.633473",
     "exception": false,
     "start_time": "2021-07-21T09:42:09.527593",
     "status": "completed"
    },
    "tags": []
   },
   "outputs": [],
   "source": [
    "data = data[['transcription','medical_specialty']]\n",
    "data = data.drop(data[data['transcription'].isna()].index) # Dropping the rows which have transcription value as none"
   ]
  },
  {
   "cell_type": "markdown",
   "id": "cf1475d6",
   "metadata": {
    "papermill": {
     "duration": 0.091461,
     "end_time": "2021-07-21T09:42:09.818001",
     "exception": false,
     "start_time": "2021-07-21T09:42:09.726540",
     "status": "completed"
    },
    "tags": []
   },
   "source": [
    "## 3. Data Review\n",
    "\n",
    "Looking at some of the transcription values"
   ]
  },
  {
   "cell_type": "code",
   "execution_count": 5,
   "id": "d166f56a",
   "metadata": {
    "execution": {
     "iopub.execute_input": "2021-07-21T09:42:10.004352Z",
     "iopub.status.busy": "2021-07-21T09:42:10.003577Z",
     "iopub.status.idle": "2021-07-21T09:42:10.010643Z",
     "shell.execute_reply": "2021-07-21T09:42:10.010087Z",
     "shell.execute_reply.started": "2021-07-21T07:48:56.079376Z"
    },
    "papermill": {
     "duration": 0.101598,
     "end_time": "2021-07-21T09:42:10.010796",
     "exception": false,
     "start_time": "2021-07-21T09:42:09.909198",
     "status": "completed"
    },
    "tags": []
   },
   "outputs": [
    {
     "data": {
      "text/plain": [
       "'SUBJECTIVE:,  This 23-year-old white female presents with complaint of allergies.  She used to have allergies when she lived in Seattle but she thinks they are worse here.  In the past, she has tried Claritin, and Zyrtec.  Both worked for short time but then seemed to lose effectiveness.  She has used Allegra also.  She used that last summer and she began using it again two weeks ago.  It does not appear to be working very well.  She has used over-the-counter sprays but no prescription nasal sprays.  She does have asthma but doest not require daily medication for this and does not think it is flaring up.,MEDICATIONS: , Her only medication currently is Ortho Tri-Cyclen and the Allegra.,ALLERGIES: , She has no known medicine allergies.,OBJECTIVE:,Vitals:  Weight was 130 pounds and blood pressure 124/78.,HEENT:  Her throat was mildly erythematous without exudate.  Nasal mucosa was erythematous and swollen.  Only clear drainage was seen.  TMs were clear.,Neck:  Supple without adenopathy.,Lungs:  Clear.,ASSESSMENT:,  Allergic rhinitis.,PLAN:,1.  She will try Zyrtec instead of Allegra again.  Another option will be to use loratadine.  She does not think she has prescription coverage so that might be cheaper.,2.  Samples of Nasonex two sprays in each nostril given for three weeks.  A prescription was written as well.'"
      ]
     },
     "execution_count": 5,
     "metadata": {},
     "output_type": "execute_result"
    }
   ],
   "source": [
    "data.iloc[0]['transcription']"
   ]
  },
  {
   "cell_type": "markdown",
   "id": "e82cc6fc",
   "metadata": {
    "papermill": {
     "duration": 0.095128,
     "end_time": "2021-07-21T09:42:10.199509",
     "exception": false,
     "start_time": "2021-07-21T09:42:10.104381",
     "status": "completed"
    },
    "tags": []
   },
   "source": [
    "Can you see the 7th line, it is **doest**, which should be **does**, maybe we need to apply some text lemmatization, pre-processings, to deal with it\n",
    "\n",
    "Let us have a look at the target distribution"
   ]
  },
  {
   "cell_type": "code",
   "execution_count": 6,
   "id": "a73050c0",
   "metadata": {
    "execution": {
     "iopub.execute_input": "2021-07-21T09:42:10.393225Z",
     "iopub.status.busy": "2021-07-21T09:42:10.392458Z",
     "iopub.status.idle": "2021-07-21T09:42:10.395336Z",
     "shell.execute_reply": "2021-07-21T09:42:10.395783Z",
     "shell.execute_reply.started": "2021-07-21T07:48:57.263167Z"
    },
    "papermill": {
     "duration": 0.105375,
     "end_time": "2021-07-21T09:42:10.395963",
     "exception": false,
     "start_time": "2021-07-21T09:42:10.290588",
     "status": "completed"
    },
    "tags": []
   },
   "outputs": [
    {
     "data": {
      "text/plain": [
       " Surgery                          1088\n",
       " Consult - History and Phy.        516\n",
       " Cardiovascular / Pulmonary        371\n",
       " Orthopedic                        355\n",
       " Radiology                         273\n",
       " General Medicine                  259\n",
       " Gastroenterology                  224\n",
       " Neurology                         223\n",
       " SOAP / Chart / Progress Notes     166\n",
       " Urology                           156\n",
       " Obstetrics / Gynecology           155\n",
       " Discharge Summary                 108\n",
       " ENT - Otolaryngology               96\n",
       " Neurosurgery                       94\n",
       " Hematology - Oncology              90\n",
       " Ophthalmology                      83\n",
       " Nephrology                         81\n",
       " Emergency Room Reports             75\n",
       " Pediatrics - Neonatal              70\n",
       " Pain Management                    61\n",
       " Psychiatry / Psychology            53\n",
       " Office Notes                       50\n",
       " Podiatry                           47\n",
       " Dermatology                        29\n",
       " Dentistry                          27\n",
       " Cosmetic / Plastic Surgery         27\n",
       " Letters                            23\n",
       " Physical Medicine - Rehab          21\n",
       " Sleep Medicine                     20\n",
       " Endocrinology                      19\n",
       " Bariatrics                         18\n",
       " IME-QME-Work Comp etc.             16\n",
       " Chiropractic                       14\n",
       " Rheumatology                       10\n",
       " Diets and Nutritions               10\n",
       " Speech - Language                   9\n",
       " Lab Medicine - Pathology            8\n",
       " Autopsy                             8\n",
       " Allergy / Immunology                7\n",
       " Hospice - Palliative Care           6\n",
       "Name: medical_specialty, dtype: int64"
      ]
     },
     "execution_count": 6,
     "metadata": {},
     "output_type": "execute_result"
    }
   ],
   "source": [
    "data['medical_specialty'].value_counts()"
   ]
  },
  {
   "cell_type": "markdown",
   "id": "922e6662",
   "metadata": {
    "papermill": {
     "duration": 0.092533,
     "end_time": "2021-07-21T09:42:10.579835",
     "exception": false,
     "start_time": "2021-07-21T09:42:10.487302",
     "status": "completed"
    },
    "tags": []
   },
   "source": [
    "So, we can see that, the `Surgery` has the highest count of 1088, and the `Autopsy` has just 8 counts, so this is a case of Class-Imbalance dataset, so now we need to deal with this too!!\n",
    "\n",
    "Let's do it, then!!"
   ]
  },
  {
   "cell_type": "code",
   "execution_count": 7,
   "id": "d6539eaf",
   "metadata": {
    "execution": {
     "iopub.execute_input": "2021-07-21T09:42:10.803166Z",
     "iopub.status.busy": "2021-07-21T09:42:10.802394Z",
     "iopub.status.idle": "2021-07-21T09:42:12.056654Z",
     "shell.execute_reply": "2021-07-21T09:42:12.057167Z",
     "shell.execute_reply.started": "2021-07-21T07:48:58.319546Z"
    },
    "papermill": {
     "duration": 1.373559,
     "end_time": "2021-07-21T09:42:12.057359",
     "exception": false,
     "start_time": "2021-07-21T09:42:10.683800",
     "status": "completed"
    },
    "tags": []
   },
   "outputs": [
    {
     "name": "stdout",
     "output_type": "stream",
     "text": [
      "2420937 words total, with a vocabulary size of 28581\n",
      "Max sentence length is 3114\n"
     ]
    }
   ],
   "source": [
    "from keras.preprocessing.text import Tokenizer\n",
    "from keras.preprocessing.sequence import pad_sequences\n",
    "from keras.utils import to_categorical\n",
    "\n",
    "# Create a list of tokens for each sentence\n",
    "tokenizer = RegexpTokenizer(r'\\w+')\n",
    "data['tokens'] = data['transcription'].apply(tokenizer.tokenize)\n",
    "\n",
    "all_words = [word for tokens in data['tokens'] for word in tokens]\n",
    "sentence_lengths  =[len(tokens) for tokens in data['tokens']]\n",
    "VOCAB = sorted(list(set(all_words)))\n",
    "print(\"%s words total, with a vocabulary size of %s\" %(len(all_words),len(VOCAB)))\n",
    "print(\"Max sentence length is %s\"%max(sentence_lengths))"
   ]
  },
  {
   "cell_type": "code",
   "execution_count": 8,
   "id": "6bbd7579",
   "metadata": {
    "execution": {
     "iopub.execute_input": "2021-07-21T09:42:12.245926Z",
     "iopub.status.busy": "2021-07-21T09:42:12.245226Z",
     "iopub.status.idle": "2021-07-21T09:42:12.590818Z",
     "shell.execute_reply": "2021-07-21T09:42:12.590115Z",
     "shell.execute_reply.started": "2021-07-21T07:48:59.726428Z"
    },
    "papermill": {
     "duration": 0.441069,
     "end_time": "2021-07-21T09:42:12.590988",
     "exception": false,
     "start_time": "2021-07-21T09:42:12.149919",
     "status": "completed"
    },
    "tags": []
   },
   "outputs": [
    {
     "data": {
      "image/png": "[encoded data removed]",
      "text/plain": [
       "<Figure size 1080x576 with 1 Axes>"
      ]
     },
     "metadata": {
      "needs_background": "light"
     },
     "output_type": "display_data"
    }
   ],
   "source": [
    "plt.figure(figsize=(15,8))\n",
    "plt.hist(sentence_lengths,edgecolor = 'black',bins=20)\n",
    "plt.xlabel(\"Sentence Length\")\n",
    "plt.ylabel(\"Count\")\n",
    "plt.show()"
   ]
  },
  {
   "cell_type": "code",
   "execution_count": 9,
   "id": "b275efef",
   "metadata": {
    "execution": {
     "iopub.execute_input": "2021-07-21T09:42:12.787113Z",
     "iopub.status.busy": "2021-07-21T09:42:12.785820Z",
     "iopub.status.idle": "2021-07-21T09:42:12.793652Z",
     "shell.execute_reply": "2021-07-21T09:42:12.794358Z",
     "shell.execute_reply.started": "2021-07-21T07:49:00.165576Z"
    },
    "papermill": {
     "duration": 0.110019,
     "end_time": "2021-07-21T09:42:12.794586",
     "exception": false,
     "start_time": "2021-07-21T09:42:12.684567",
     "status": "completed"
    },
    "tags": []
   },
   "outputs": [
    {
     "name": "stdout",
     "output_type": "stream",
     "text": [
      "Median sentence length 421.5\n",
      "Mean sentence length 487.5024164317358\n"
     ]
    }
   ],
   "source": [
    "print(f\"Median sentence length {np.median(sentence_lengths)}\")\n",
    "print(f\"Mean sentence length {np.mean(sentence_lengths)}\")"
   ]
  },
  {
   "cell_type": "markdown",
   "id": "28602c63",
   "metadata": {
    "papermill": {
     "duration": 0.097284,
     "end_time": "2021-07-21T09:42:12.986260",
     "exception": false,
     "start_time": "2021-07-21T09:42:12.888976",
     "status": "completed"
    },
    "tags": []
   },
   "source": [
    "From the above figures, we can see that the average median and mean values are long enough, means average sentence length is around 420 words, quite high!!!"
   ]
  },
  {
   "cell_type": "markdown",
   "id": "cf9b4f71",
   "metadata": {
    "papermill": {
     "duration": 0.096003,
     "end_time": "2021-07-21T09:42:13.178461",
     "exception": false,
     "start_time": "2021-07-21T09:42:13.082458",
     "status": "completed"
    },
    "tags": []
   },
   "source": [
    "## 4. Data transformation"
   ]
  },
  {
   "cell_type": "code",
   "execution_count": 10,
   "id": "1e003cf6",
   "metadata": {
    "execution": {
     "iopub.execute_input": "2021-07-21T09:42:13.369822Z",
     "iopub.status.busy": "2021-07-21T09:42:13.369110Z",
     "iopub.status.idle": "2021-07-21T09:42:13.382503Z",
     "shell.execute_reply": "2021-07-21T09:42:13.381874Z",
     "shell.execute_reply.started": "2021-07-21T07:49:00.178542Z"
    },
    "papermill": {
     "duration": 0.110472,
     "end_time": "2021-07-21T09:42:13.382652",
     "exception": false,
     "start_time": "2021-07-21T09:42:13.272180",
     "status": "completed"
    },
    "tags": []
   },
   "outputs": [],
   "source": [
    "# Text preparation\n",
    "\n",
    "def basic_preprocessing(df):\n",
    "    df_temp = df.copy(deep=True)\n",
    "    \n",
    "    df_temp = df_temp.rename(index = str,columns = {'transcription':'text'})\n",
    "    df_temp.loc[:,'text'] = [text_prepare(x) for x in df_temp['text'].values]\n",
    "    \n",
    "    le = LabelEncoder()\n",
    "    le.fit(df_temp['medical_specialty'])\n",
    "    df_temp.loc[:,'class_label'] = le.transform(df_temp['medical_specialty'])\n",
    "    tokenizer = RegexpTokenizer(r'\\w+')\n",
    "    df_temp['tokens'] = df_temp['text'].apply(tokenizer.tokenize)\n",
    "    return df_temp\n",
    "\n",
    "def text_prepare(text):\n",
    "    \n",
    "     '''\n",
    "        This function will take an input as a text and then, preprocess it, \n",
    "        by removing the stopwords, special symbols and returns a text\n",
    "\n",
    "        INPUT: text\n",
    "        OUTPUT: text\n",
    "     '''\n",
    "     REPLACE_BY_SPACE_RE = re.compile('[/(){}\\[\\]\\|@,;]')\n",
    "     BAD_SYMBOLS_RE = re.compile('[^0-9a-z#+_]')\n",
    "     STOPWORDS = set(stopwords.words('english'))\n",
    "     text = text.lower()\n",
    "     \n",
    "     text = REPLACE_BY_SPACE_RE.sub('',text) # replace REPLACE_BY_SPACE_RE symbols by space in text\n",
    "     text = BAD_SYMBOLS_RE.sub('',text) # delete symbols which are in BAD_SYMBOLS_RE from text\n",
    "     words = text.split()\n",
    "     \n",
    "     i =0\n",
    "     while i<len(words):\n",
    "            if words[i] in STOPWORDS:\n",
    "                words.pop(i)\n",
    "            else:\n",
    "                i+=1\n",
    "     text = ' '.join(map(str,words))\n",
    "     return text\n",
    "\n",
    "def get_metrics(y_test,y_predicted):\n",
    "    \n",
    "    # getting the precision, recall, accuracy and f1 score\n",
    "    precision = precision_score(y_test,y_predicted,average='weighted')\n",
    "    recall = recall_score(y_test,y_predicted,average='weighted')\n",
    "    f1 = f1_score(y_test,y_predicted,average='weighted')\n",
    "    accuracy = accuracy_score(y_test, y_predicted)\n",
    "    return accuracy,precision,recall,f1"
   ]
  },
  {
   "cell_type": "markdown",
   "id": "a0a68d5b",
   "metadata": {
    "papermill": {
     "duration": 0.093135,
     "end_time": "2021-07-21T09:42:13.570164",
     "exception": false,
     "start_time": "2021-07-21T09:42:13.477029",
     "status": "completed"
    },
    "tags": []
   },
   "source": [
    "## 4.1 Bag of words\n",
    "\n",
    "So, in this, first of all we would be apply basic preprocessing function, which splits the words, removes unvaluable symbols and drop stopwords"
   ]
  },
  {
   "cell_type": "code",
   "execution_count": 11,
   "id": "6b765be5",
   "metadata": {
    "execution": {
     "iopub.execute_input": "2021-07-21T09:42:13.763829Z",
     "iopub.status.busy": "2021-07-21T09:42:13.763078Z",
     "iopub.status.idle": "2021-07-21T09:42:13.769634Z",
     "shell.execute_reply": "2021-07-21T09:42:13.768925Z",
     "shell.execute_reply.started": "2021-07-21T07:49:00.923785Z"
    },
    "papermill": {
     "duration": 0.106992,
     "end_time": "2021-07-21T09:42:13.769784",
     "exception": false,
     "start_time": "2021-07-21T09:42:13.662792",
     "status": "completed"
    },
    "tags": []
   },
   "outputs": [],
   "source": [
    "def BOW(data):\n",
    "    df_temp  =data.copy(deep = True)\n",
    "    df_temp = basic_preprocessing(df_temp)\n",
    "    \n",
    "    count_vectorizer = CountVectorizer()\n",
    "    count_vectorizer.fit(df_temp['text'])\n",
    "    \n",
    "    list_corpus = df_temp['text'].tolist()\n",
    "    list_labels = df_temp['class_label'].tolist()\n",
    "    \n",
    "    X = count_vectorizer.transform(list_corpus)\n",
    "    \n",
    "    return X,list_labels"
   ]
  },
  {
   "cell_type": "markdown",
   "id": "381c9182",
   "metadata": {
    "papermill": {
     "duration": 0.092606,
     "end_time": "2021-07-21T09:42:13.955488",
     "exception": false,
     "start_time": "2021-07-21T09:42:13.862882",
     "status": "completed"
    },
    "tags": []
   },
   "source": [
    "## 4.2 TF-IDF\n",
    "\n",
    "For TD-IDF we use the same approach as above. The only difference is that, we would use TF-IDF vectorizer instead of count vectorizer. We will check 1-grams only and mix of 1 and 2 grams"
   ]
  },
  {
   "cell_type": "code",
   "execution_count": 12,
   "id": "1db44973",
   "metadata": {
    "execution": {
     "iopub.execute_input": "2021-07-21T09:42:14.149376Z",
     "iopub.status.busy": "2021-07-21T09:42:14.148622Z",
     "iopub.status.idle": "2021-07-21T09:42:14.154657Z",
     "shell.execute_reply": "2021-07-21T09:42:14.155254Z",
     "shell.execute_reply.started": "2021-07-21T07:49:01.398673Z"
    },
    "papermill": {
     "duration": 0.104073,
     "end_time": "2021-07-21T09:42:14.155440",
     "exception": false,
     "start_time": "2021-07-21T09:42:14.051367",
     "status": "completed"
    },
    "tags": []
   },
   "outputs": [],
   "source": [
    "def tfidf(data,ngrams = 1):\n",
    "    \n",
    "    df_temp = data.copy(deep=True)\n",
    "    df_temp = basic_preprocessing(df_temp)\n",
    "    \n",
    "    tfidf_vectorizer = TfidfVectorizer(ngram_range = (1,ngrams))\n",
    "    tfidf_vectorizer.fit(df_temp['text'])\n",
    "    \n",
    "    list_corpus = df_temp['text'].tolist()\n",
    "    list_labels = df_temp['class_label'].tolist()\n",
    "    \n",
    "    X =tfidf_vectorizer.transform(list_corpus)\n",
    "    return X,list_labels"
   ]
  },
  {
   "cell_type": "markdown",
   "id": "303caf33",
   "metadata": {
    "papermill": {
     "duration": 0.09231,
     "end_time": "2021-07-21T09:42:14.340660",
     "exception": false,
     "start_time": "2021-07-21T09:42:14.248350",
     "status": "completed"
    },
    "tags": []
   },
   "source": [
    "## 4.3 Word2Vec\n",
    "\n",
    "Same Approach"
   ]
  },
  {
   "cell_type": "code",
   "execution_count": 13,
   "id": "7c0ef392",
   "metadata": {
    "execution": {
     "iopub.execute_input": "2021-07-21T09:42:14.530716Z",
     "iopub.status.busy": "2021-07-21T09:42:14.529970Z",
     "iopub.status.idle": "2021-07-21T09:43:56.763889Z",
     "shell.execute_reply": "2021-07-21T09:43:56.762998Z",
     "shell.execute_reply.started": "2021-07-21T07:49:01.777962Z"
    },
    "papermill": {
     "duration": 102.329458,
     "end_time": "2021-07-21T09:43:56.764109",
     "exception": false,
     "start_time": "2021-07-21T09:42:14.434651",
     "status": "completed"
    },
    "tags": []
   },
   "outputs": [],
   "source": [
    "word2vec = gensim.models.KeyedVectors.load_word2vec_format('https://s3.amazonaws.com/dl4j-distribution/GoogleNews-vectors-negative300.bin.gz', binary=True)"
   ]
  },
  {
   "cell_type": "code",
   "execution_count": 14,
   "id": "50a47d75",
   "metadata": {
    "execution": {
     "iopub.execute_input": "2021-07-21T09:43:56.962659Z",
     "iopub.status.busy": "2021-07-21T09:43:56.961922Z",
     "iopub.status.idle": "2021-07-21T09:43:56.964016Z",
     "shell.execute_reply": "2021-07-21T09:43:56.964521Z",
     "shell.execute_reply.started": "2021-07-21T07:50:44.139440Z"
    },
    "papermill": {
     "duration": 0.105154,
     "end_time": "2021-07-21T09:43:56.964710",
     "exception": false,
     "start_time": "2021-07-21T09:43:56.859556",
     "status": "completed"
    },
    "tags": []
   },
   "outputs": [],
   "source": [
    "def get_average_word2vec(tokens_list,vector,generate_missing=False,k=300):\n",
    "    if len(tokens_list)<1:\n",
    "        return np.zeros(k)\n",
    "    if generate_missing:\n",
    "        vectorized = [vector[word] if word in vector else np.random.rand(k) for word in tokens_list]\n",
    "        \n",
    "    else:\n",
    "        vectorized = [vector[word] if word in vector else np.zeros(k) for word in tokens_list]\n",
    "    length = len(vectorized)\n",
    "    summed = np.sum(vectorized,axis = 0)\n",
    "    averaged = np.divide(summed,length)\n",
    "    return averaged\n",
    "def get_word2vec_embeddings(vectors, clean_questions, generate_missing=False):\n",
    "    embeddings = clean_questions['tokens'].apply(lambda x: get_average_word2vec(x, vectors, \n",
    "                                                                                generate_missing=generate_missing))\n",
    "    return list(embeddings)"
   ]
  },
  {
   "cell_type": "code",
   "execution_count": 15,
   "id": "c462745c",
   "metadata": {
    "execution": {
     "iopub.execute_input": "2021-07-21T09:43:57.155763Z",
     "iopub.status.busy": "2021-07-21T09:43:57.155088Z",
     "iopub.status.idle": "2021-07-21T09:43:57.160962Z",
     "shell.execute_reply": "2021-07-21T09:43:57.160272Z",
     "shell.execute_reply.started": "2021-07-21T07:50:44.151877Z"
    },
    "papermill": {
     "duration": 0.102442,
     "end_time": "2021-07-21T09:43:57.161139",
     "exception": false,
     "start_time": "2021-07-21T09:43:57.058697",
     "status": "completed"
    },
    "tags": []
   },
   "outputs": [],
   "source": [
    "def w2v(data):\n",
    "    df_temp = data.copy(deep=True)\n",
    "    df_temp = basic_preprocessing(df_temp)\n",
    "    \n",
    "    embeddings = get_word2vec_embeddings(word2vec,df_temp)\n",
    "    list_labels = df_temp['class_label'].tolist()\n",
    "    return embeddings,list_labels"
   ]
  },
  {
   "cell_type": "markdown",
   "id": "ab015b64",
   "metadata": {
    "papermill": {
     "duration": 0.093173,
     "end_time": "2021-07-21T09:43:57.349317",
     "exception": false,
     "start_time": "2021-07-21T09:43:57.256144",
     "status": "completed"
    },
    "tags": []
   },
   "source": [
    "## 5. Baseline Modelling\n",
    "\n",
    "As baseline model, we'' choose LogisticRegression as one of the most berstily one. Calculating the score metrics for 4 ways described before: Bag of words, TF-IDF with 1-gra, TF-IDF with 20gram, word2vec"
   ]
  },
  {
   "cell_type": "code",
   "execution_count": 16,
   "id": "dfecbcf5",
   "metadata": {
    "execution": {
     "iopub.execute_input": "2021-07-21T09:43:57.538934Z",
     "iopub.status.busy": "2021-07-21T09:43:57.538223Z",
     "iopub.status.idle": "2021-07-21T09:47:45.137672Z",
     "shell.execute_reply": "2021-07-21T09:47:45.138671Z",
     "shell.execute_reply.started": "2021-07-21T07:50:44.168165Z"
    },
    "papermill": {
     "duration": 227.696584,
     "end_time": "2021-07-21T09:47:45.139027",
     "exception": false,
     "start_time": "2021-07-21T09:43:57.442443",
     "status": "completed"
    },
    "tags": []
   },
   "outputs": [],
   "source": [
    "folds = StratifiedKFold(n_splits =3,shuffle=True,random_state=40)\n",
    "clf   = LogisticRegressionCV(cv=folds,solver ='saga',multi_class='multinomial',n_jobs=-1,random_state=40)\n",
    "\n",
    "df_res = pd.DataFrame(columns = ['Preprocessing', 'Precision', 'Recall', 'F1-score', 'Accuracy'])\n",
    "\n",
    "# Bag of words approach\n",
    "X,y = BOW(data)\n",
    "X_train,X_test,y_train,y_test = train_test_split(X, y, test_size=0.2, random_state=40)\n",
    "clf.fit(X_train, y_train)\n",
    "y_pred = clf.predict(X_test)\n",
    "accuracy, precision, recall, f1 = get_metrics(y_test, y_pred)\n",
    "df_res = df_res.append({'Preprocessing': 'Bag of words',\n",
    "                       'Precision': precision,\n",
    "                       'Recall': recall,\n",
    "                       'F1-score': f1,\n",
    "                       'Accuracy': accuracy}, ignore_index = True)\n",
    "\n",
    "\n",
    "# TF_IDF approach. 1-gram\n",
    "X, y = tfidf(data)\n",
    "X_train, X_test, y_train, y_test = train_test_split(X, y, test_size=0.2, random_state=40)\n",
    "clf.fit(X_train, y_train)\n",
    "y_pred = clf.predict(X_test)\n",
    "accuracy, precision, recall, f1 = get_metrics(y_test, y_pred)\n",
    "df_res = df_res.append({'Preprocessing': 'TF-IDF 1-gram',\n",
    "                       'Precision': precision,\n",
    "                       'Recall': recall,\n",
    "                       'F1-score': f1,\n",
    "                       'Accuracy': accuracy}, ignore_index =True)\n",
    "\n",
    "# TF_IDF approach. 2-gram\n",
    "X, y = tfidf(data, ngrams=2)\n",
    "X_train, X_test, y_train, y_test = train_test_split(X, y, test_size=0.2, random_state=40)\n",
    "clf.fit(X_train, y_train)\n",
    "y_pred = clf.predict(X_test)\n",
    "accuracy, precision, recall, f1 = get_metrics(y_test, y_pred)\n",
    "df_res = df_res.append({'Preprocessing': 'TF-IDF 2-gram',\n",
    "                       'Precision': precision,\n",
    "                       'Recall': recall,\n",
    "                       'F1-score': f1,\n",
    "                       'Accuracy': accuracy}, ignore_index = True)\n",
    "# Word2vec\n",
    "X, y = w2v(data)\n",
    "X_train, X_test, y_train, y_test = train_test_split(X, y, test_size=0.2, random_state=40)\n",
    "clf.fit(X_train, y_train)\n",
    "y_pred = clf.predict(X_test)\n",
    "accuracy, precision, recall, f1 = get_metrics(y_test, y_pred)\n",
    "df_res = df_res.append({'Preprocessing': 'Word2vec',\n",
    "                       'Precision': precision,\n",
    "                       'Recall': recall,\n",
    "                       'F1-score': f1,\n",
    "                       'Accuracy': accuracy}, ignore_index = True)"
   ]
  },
  {
   "cell_type": "code",
   "execution_count": 17,
   "id": "3e26ec7c",
   "metadata": {
    "execution": {
     "iopub.execute_input": "2021-07-21T09:47:45.382643Z",
     "iopub.status.busy": "2021-07-21T09:47:45.381596Z",
     "iopub.status.idle": "2021-07-21T09:47:45.385580Z",
     "shell.execute_reply": "2021-07-21T09:47:45.386081Z",
     "shell.execute_reply.started": "2021-07-21T07:54:29.642126Z"
    },
    "papermill": {
     "duration": 0.110599,
     "end_time": "2021-07-21T09:47:45.386289",
     "exception": false,
     "start_time": "2021-07-21T09:47:45.275690",
     "status": "completed"
    },
    "tags": []
   },
   "outputs": [
    {
     "data": {
      "text/html": [
       "<div>\n",
       "<style scoped>\n",
       "    .dataframe tbody tr th:only-of-type {\n",
       "        vertical-align: middle;\n",
       "    }\n",
       "\n",
       "    .dataframe tbody tr th {\n",
       "        vertical-align: top;\n",
       "    }\n",
       "\n",
       "    .dataframe thead th {\n",
       "        text-align: right;\n",
       "    }\n",
       "</style>\n",
       "<table border=\"1\" class=\"dataframe\">\n",
       "  <thead>\n",
       "    <tr style=\"text-align: right;\">\n",
       "      <th></th>\n",
       "      <th>Preprocessing</th>\n",
       "      <th>Precision</th>\n",
       "      <th>Recall</th>\n",
       "      <th>F1-score</th>\n",
       "      <th>Accuracy</th>\n",
       "    </tr>\n",
       "  </thead>\n",
       "  <tbody>\n",
       "    <tr>\n",
       "      <th>0</th>\n",
       "      <td>Bag of words</td>\n",
       "      <td>0.050331</td>\n",
       "      <td>0.224346</td>\n",
       "      <td>0.082217</td>\n",
       "      <td>0.224346</td>\n",
       "    </tr>\n",
       "    <tr>\n",
       "      <th>1</th>\n",
       "      <td>TF-IDF 1-gram</td>\n",
       "      <td>0.050331</td>\n",
       "      <td>0.224346</td>\n",
       "      <td>0.082217</td>\n",
       "      <td>0.224346</td>\n",
       "    </tr>\n",
       "    <tr>\n",
       "      <th>2</th>\n",
       "      <td>TF-IDF 2-gram</td>\n",
       "      <td>0.050331</td>\n",
       "      <td>0.224346</td>\n",
       "      <td>0.082217</td>\n",
       "      <td>0.224346</td>\n",
       "    </tr>\n",
       "    <tr>\n",
       "      <th>3</th>\n",
       "      <td>Word2vec</td>\n",
       "      <td>0.065525</td>\n",
       "      <td>0.225352</td>\n",
       "      <td>0.086274</td>\n",
       "      <td>0.225352</td>\n",
       "    </tr>\n",
       "  </tbody>\n",
       "</table>\n",
       "</div>"
      ],
      "text/plain": [
       "   Preprocessing  Precision    Recall  F1-score  Accuracy\n",
       "0   Bag of words   0.050331  0.224346  0.082217  0.224346\n",
       "1  TF-IDF 1-gram   0.050331  0.224346  0.082217  0.224346\n",
       "2  TF-IDF 2-gram   0.050331  0.224346  0.082217  0.224346\n",
       "3       Word2vec   0.065525  0.225352  0.086274  0.225352"
      ]
     },
     "execution_count": 17,
     "metadata": {},
     "output_type": "execute_result"
    }
   ],
   "source": [
    "df_res"
   ]
  },
  {
   "cell_type": "markdown",
   "id": "39b879ff",
   "metadata": {
    "papermill": {
     "duration": 0.092843,
     "end_time": "2021-07-21T09:47:45.574895",
     "exception": false,
     "start_time": "2021-07-21T09:47:45.482052",
     "status": "completed"
    },
    "tags": []
   },
   "source": [
    "## 6. Baseline Result analysis\n",
    "\n",
    "As we can see, quality metrics vary a lot. So we need to choose the one we will be targeting on.\n",
    "\n",
    "* Accuracy is not a good choice as due to very unbalanced class maximizing it will force alorithm to predict the major one;\n",
    "* Precision indicates how much we can trust the algorithm when it predicts a certain class;\n",
    "* Recall shows how many of the true labels of the class are predicted correctly by the algorithm;\n",
    "* F1-score is the harmonic mean of precision and recall.\n",
    "\n",
    "* As F1-score is the most balanced one of the metrics above, we will use it primarily, but still keeping an eye on others."
   ]
  },
  {
   "cell_type": "code",
   "execution_count": 18,
   "id": "988b6f31",
   "metadata": {
    "execution": {
     "iopub.execute_input": "2021-07-21T09:47:45.776333Z",
     "iopub.status.busy": "2021-07-21T09:47:45.775154Z",
     "iopub.status.idle": "2021-07-21T09:47:45.788263Z",
     "shell.execute_reply": "2021-07-21T09:47:45.788738Z",
     "shell.execute_reply.started": "2021-07-21T07:54:29.667399Z"
    },
    "papermill": {
     "duration": 0.111557,
     "end_time": "2021-07-21T09:47:45.788924",
     "exception": false,
     "start_time": "2021-07-21T09:47:45.677367",
     "status": "completed"
    },
    "tags": []
   },
   "outputs": [
    {
     "data": {
      "text/html": [
       "<div>\n",
       "<style scoped>\n",
       "    .dataframe tbody tr th:only-of-type {\n",
       "        vertical-align: middle;\n",
       "    }\n",
       "\n",
       "    .dataframe tbody tr th {\n",
       "        vertical-align: top;\n",
       "    }\n",
       "\n",
       "    .dataframe thead th {\n",
       "        text-align: right;\n",
       "    }\n",
       "</style>\n",
       "<table border=\"1\" class=\"dataframe\">\n",
       "  <thead>\n",
       "    <tr style=\"text-align: right;\">\n",
       "      <th></th>\n",
       "      <th>Preprocessing</th>\n",
       "      <th>Precision</th>\n",
       "      <th>Recall</th>\n",
       "      <th>F1-score</th>\n",
       "      <th>Accuracy</th>\n",
       "    </tr>\n",
       "  </thead>\n",
       "  <tbody>\n",
       "    <tr>\n",
       "      <th>0</th>\n",
       "      <td>Bag of words</td>\n",
       "      <td>0.050331</td>\n",
       "      <td>0.224346</td>\n",
       "      <td>0.082217</td>\n",
       "      <td>0.224346</td>\n",
       "    </tr>\n",
       "    <tr>\n",
       "      <th>1</th>\n",
       "      <td>TF-IDF 1-gram</td>\n",
       "      <td>0.050331</td>\n",
       "      <td>0.224346</td>\n",
       "      <td>0.082217</td>\n",
       "      <td>0.224346</td>\n",
       "    </tr>\n",
       "    <tr>\n",
       "      <th>2</th>\n",
       "      <td>TF-IDF 2-gram</td>\n",
       "      <td>0.050331</td>\n",
       "      <td>0.224346</td>\n",
       "      <td>0.082217</td>\n",
       "      <td>0.224346</td>\n",
       "    </tr>\n",
       "    <tr>\n",
       "      <th>3</th>\n",
       "      <td>Word2vec</td>\n",
       "      <td>0.065525</td>\n",
       "      <td>0.225352</td>\n",
       "      <td>0.086274</td>\n",
       "      <td>0.225352</td>\n",
       "    </tr>\n",
       "  </tbody>\n",
       "</table>\n",
       "</div>"
      ],
      "text/plain": [
       "   Preprocessing  Precision    Recall  F1-score  Accuracy\n",
       "0   Bag of words   0.050331  0.224346  0.082217  0.224346\n",
       "1  TF-IDF 1-gram   0.050331  0.224346  0.082217  0.224346\n",
       "2  TF-IDF 2-gram   0.050331  0.224346  0.082217  0.224346\n",
       "3       Word2vec   0.065525  0.225352  0.086274  0.225352"
      ]
     },
     "execution_count": 18,
     "metadata": {},
     "output_type": "execute_result"
    }
   ],
   "source": [
    "df_res"
   ]
  },
  {
   "cell_type": "markdown",
   "id": "30eeb0f5",
   "metadata": {
    "papermill": {
     "duration": 0.095961,
     "end_time": "2021-07-21T09:47:45.981981",
     "exception": false,
     "start_time": "2021-07-21T09:47:45.886020",
     "status": "completed"
    },
    "tags": []
   },
   "source": [
    "The major classes are predicted quite well, but minor ones are confused a lot. Most possibly the reason is not only in unbalanceness of the classes, but in a very few absolute number of minor classes. Doubtfully the algorithm can gain some dependencies on 6 or 10 objects of one class.\n",
    "\n",
    "So in order to make the model better we will get rid on the classes which are represented by less than 100 objects. For those we would need to get additional data."
   ]
  },
  {
   "cell_type": "markdown",
   "id": "3c945336",
   "metadata": {
    "papermill": {
     "duration": 0.098315,
     "end_time": "2021-07-21T09:47:46.179544",
     "exception": false,
     "start_time": "2021-07-21T09:47:46.081229",
     "status": "completed"
    },
    "tags": []
   },
   "source": [
    "## 7. Dataset Adjustment\n",
    "\n",
    "Dropping objects with number of observations less than 100"
   ]
  },
  {
   "cell_type": "code",
   "execution_count": 19,
   "id": "6d92ff1e",
   "metadata": {
    "execution": {
     "iopub.execute_input": "2021-07-21T09:47:46.376775Z",
     "iopub.status.busy": "2021-07-21T09:47:46.375661Z",
     "iopub.status.idle": "2021-07-21T09:47:46.385611Z",
     "shell.execute_reply": "2021-07-21T09:47:46.386154Z",
     "shell.execute_reply.started": "2021-07-21T07:54:29.704872Z"
    },
    "papermill": {
     "duration": 0.110096,
     "end_time": "2021-07-21T09:47:46.386352",
     "exception": false,
     "start_time": "2021-07-21T09:47:46.276256",
     "status": "completed"
    },
    "tags": []
   },
   "outputs": [],
   "source": [
    "counts  =data['medical_specialty'].value_counts()\n",
    "data_100 = data[data['medical_specialty'].isin(counts[counts>100].index)]"
   ]
  },
  {
   "cell_type": "code",
   "execution_count": 20,
   "id": "3a1ad280",
   "metadata": {
    "execution": {
     "iopub.execute_input": "2021-07-21T09:47:46.580517Z",
     "iopub.status.busy": "2021-07-21T09:47:46.579528Z",
     "iopub.status.idle": "2021-07-21T09:47:46.586692Z",
     "shell.execute_reply": "2021-07-21T09:47:46.587193Z",
     "shell.execute_reply.started": "2021-07-21T07:54:29.731188Z"
    },
    "papermill": {
     "duration": 0.106249,
     "end_time": "2021-07-21T09:47:46.587389",
     "exception": false,
     "start_time": "2021-07-21T09:47:46.481140",
     "status": "completed"
    },
    "tags": []
   },
   "outputs": [],
   "source": [
    "data_100['labels'] = LabelEncoder().fit_transform(data_100['medical_specialty'])"
   ]
  },
  {
   "cell_type": "code",
   "execution_count": 21,
   "id": "fda673d3",
   "metadata": {
    "execution": {
     "iopub.execute_input": "2021-07-21T09:47:46.780281Z",
     "iopub.status.busy": "2021-07-21T09:47:46.779258Z",
     "iopub.status.idle": "2021-07-21T09:47:46.788400Z",
     "shell.execute_reply": "2021-07-21T09:47:46.788889Z",
     "shell.execute_reply.started": "2021-07-21T07:54:29.743670Z"
    },
    "papermill": {
     "duration": 0.107401,
     "end_time": "2021-07-21T09:47:46.789092",
     "exception": false,
     "start_time": "2021-07-21T09:47:46.681691",
     "status": "completed"
    },
    "tags": []
   },
   "outputs": [
    {
     "data": {
      "text/plain": [
       " Surgery                          1088\n",
       " Consult - History and Phy.        516\n",
       " Cardiovascular / Pulmonary        371\n",
       " Orthopedic                        355\n",
       " Radiology                         273\n",
       " General Medicine                  259\n",
       " Gastroenterology                  224\n",
       " Neurology                         223\n",
       " SOAP / Chart / Progress Notes     166\n",
       " Urology                           156\n",
       " Obstetrics / Gynecology           155\n",
       " Discharge Summary                 108\n",
       "Name: medical_specialty, dtype: int64"
      ]
     },
     "execution_count": 21,
     "metadata": {},
     "output_type": "execute_result"
    }
   ],
   "source": [
    "data_100['medical_specialty'].value_counts()"
   ]
  },
  {
   "cell_type": "markdown",
   "id": "117321e1",
   "metadata": {
    "papermill": {
     "duration": 0.094764,
     "end_time": "2021-07-21T09:47:46.978617",
     "exception": false,
     "start_time": "2021-07-21T09:47:46.883853",
     "status": "completed"
    },
    "tags": []
   },
   "source": [
    "Imbalance is still high, but maybe this step should give us get better results\n",
    "\n",
    "## 8. Selecting the best model\n",
    "\n",
    "Now having the baseline odel on full dataset, we will try to improve it using adjusted dataset and three of the most suitable algorithms: Naive Bayes, Logistic Regression and LightGBM\n",
    "\n",
    "## 8.1 Naive bayes"
   ]
  },
  {
   "cell_type": "code",
   "execution_count": 22,
   "id": "5fa3da51",
   "metadata": {
    "execution": {
     "iopub.execute_input": "2021-07-21T09:47:47.177667Z",
     "iopub.status.busy": "2021-07-21T09:47:47.176359Z",
     "iopub.status.idle": "2021-07-21T09:47:47.184707Z",
     "shell.execute_reply": "2021-07-21T09:47:47.185219Z",
     "shell.execute_reply.started": "2021-07-21T07:54:29.764289Z"
    },
    "papermill": {
     "duration": 0.109907,
     "end_time": "2021-07-21T09:47:47.185417",
     "exception": false,
     "start_time": "2021-07-21T09:47:47.075510",
     "status": "completed"
    },
    "tags": []
   },
   "outputs": [],
   "source": [
    "def training_naive(X_train_naive,X_test_naive,y_train_naive,y_test_naive,preproc):\n",
    "    clf = MultinomialNB()\n",
    "    clf.fit(X_train_naive,y_train_naive)\n",
    "    \n",
    "    res = pd.DataFrame(columns = ['Preprocessing', 'Model', 'Precision', 'Recall', 'F1-score', 'Accuracy'])\n",
    "    \n",
    "    y_pred = clf.predict(X_test_naive)\n",
    "    \n",
    "    f1 = f1_score(y_pred, y_test_naive, average = 'weighted')\n",
    "    pres = precision_score(y_pred, y_test_naive, average = 'weighted')\n",
    "    rec = recall_score(y_pred, y_test_naive, average = 'weighted')\n",
    "    acc = accuracy_score(y_pred, y_test_naive)\n",
    "    \n",
    "    res = res.append({'Preprocessing': preproc, 'Model': 'Naive Bayes', 'Precision': pres, \n",
    "                     'Recall': rec, 'F1-score': f1, 'Accuracy': acc}, ignore_index = True)\n",
    "\n",
    "    return res"
   ]
  },
  {
   "cell_type": "markdown",
   "id": "55382fdc",
   "metadata": {
    "papermill": {
     "duration": 0.09586,
     "end_time": "2021-07-21T09:47:47.378984",
     "exception": false,
     "start_time": "2021-07-21T09:47:47.283124",
     "status": "completed"
    },
    "tags": []
   },
   "source": [
    "## 8.2 Logistic Regression"
   ]
  },
  {
   "cell_type": "code",
   "execution_count": 23,
   "id": "f214d1cc",
   "metadata": {
    "execution": {
     "iopub.execute_input": "2021-07-21T09:47:47.573213Z",
     "iopub.status.busy": "2021-07-21T09:47:47.572159Z",
     "iopub.status.idle": "2021-07-21T09:47:47.580986Z",
     "shell.execute_reply": "2021-07-21T09:47:47.581514Z",
     "shell.execute_reply.started": "2021-07-21T07:54:29.777103Z"
    },
    "papermill": {
     "duration": 0.10709,
     "end_time": "2021-07-21T09:47:47.581725",
     "exception": false,
     "start_time": "2021-07-21T09:47:47.474635",
     "status": "completed"
    },
    "tags": []
   },
   "outputs": [],
   "source": [
    "def training_logreg(X_train_log,X_test_log,y_train_log,y_test_log,preproc):\n",
    "    \n",
    "    \n",
    "    folds = StratifiedKFold(n_splits = 3,shuffle=True,random_state=40)\n",
    "    clf = LogisticRegressionCV(cv= folds,solver='saga',multi_class='multinomial',n_jobs = -1)\n",
    "    clf.fit(X_train_log,y_train_log)\n",
    "    \n",
    "    res = pd.DataFrame(columns = ['Preprocessing', 'Model', 'Precision', 'Recall', 'F1-score', 'Accuracy'])\n",
    "    \n",
    "    y_pred = clf.predict(X_test_log)\n",
    "    \n",
    "    f1 = f1_score(y_pred, y_test_log, average = 'weighted')\n",
    "    pres = precision_score(y_pred, y_test_log, average = 'weighted')\n",
    "    rec = recall_score(y_pred, y_test_log, average = 'weighted')\n",
    "    acc = accuracy_score(y_pred, y_test_log)\n",
    "    \n",
    "    res = res.append({'Preprocessing': preproc, 'Model': 'Naive Bayes', 'Precision': pres, \n",
    "                     'Recall': rec, 'F1-score': f1, 'Accuracy': acc}, ignore_index = True)\n",
    "\n",
    "    return res"
   ]
  },
  {
   "cell_type": "markdown",
   "id": "ac750e49",
   "metadata": {
    "papermill": {
     "duration": 0.095311,
     "end_time": "2021-07-21T09:47:47.771720",
     "exception": false,
     "start_time": "2021-07-21T09:47:47.676409",
     "status": "completed"
    },
    "tags": []
   },
   "source": [
    "## 8.3 LightGBM\n",
    "\n",
    "For LightGBM first we need to make a pretune for the model to perform close to well"
   ]
  },
  {
   "cell_type": "code",
   "execution_count": 24,
   "id": "7a2e5dd2",
   "metadata": {
    "execution": {
     "iopub.execute_input": "2021-07-21T09:47:47.964514Z",
     "iopub.status.busy": "2021-07-21T09:47:47.963402Z",
     "iopub.status.idle": "2021-07-21T09:47:47.975842Z",
     "shell.execute_reply": "2021-07-21T09:47:47.976357Z",
     "shell.execute_reply.started": "2021-07-21T07:54:29.790924Z"
    },
    "papermill": {
     "duration": 0.11063,
     "end_time": "2021-07-21T09:47:47.976553",
     "exception": false,
     "start_time": "2021-07-21T09:47:47.865923",
     "status": "completed"
    },
    "tags": []
   },
   "outputs": [],
   "source": [
    "def training_lgbm(X_train_lgbm, X_test_lgbm, y_train_lgbm, y_test_lgbm, preproc,\n",
    "                 n = 120, depth = 4, child = 2, bag = 0.9, feature = 0.9, l1 = 1, l = 0.01, w2v = False):\n",
    "    \n",
    "    if w2v:\n",
    "        d_train = lgb.Dataset(X_train_lgbm, label=y_train_lgbm)\n",
    "    else:\n",
    "        d_train = lgb.Dataset(X_train_lgbm.astype(np.float32), label=y_train_lgbm)\n",
    "\n",
    "    early_stop = 500\n",
    "    verbose_eval = False\n",
    "    num_rounds = n\n",
    "    params = {\n",
    "        'objective': 'multiclass',\n",
    "        'num_class': len(set(y_train_lgbm)),\n",
    "        'boosting': 'gbdt', \n",
    "        'metric': 'multi_logloss',\n",
    "        'max_depth': depth, \n",
    "        'max_bin': 22, \n",
    "        'bagging_fraction': bag, \n",
    "        'feature_fraction': feature, \n",
    "        'min_child_samples': child, \n",
    "        'min_child_weight': 1, \n",
    "        'learning_rate': l,\n",
    "        'verbosity': -1, \n",
    "        'data_random_seed': 17,\n",
    "        'lambda_l1': l1}\n",
    "\n",
    "    model = lgb.train(params, train_set = d_train, num_boost_round = num_rounds)\n",
    "\n",
    "    y_pred_proba = model.predict(X_test_lgbm.astype(np.float32), num_iteration=model.best_iteration)\n",
    "    y_pred = [np.argmax(x) for x in y_pred_proba]\n",
    "    \n",
    "    res = pd.DataFrame(columns = ['Preprocessing', 'Model', 'Precision', 'Recall', 'F1-score', 'Accuracy'])\n",
    "        \n",
    "    f1 = f1_score(y_pred, y_test_lgbm, average = 'weighted')\n",
    "    pres = precision_score(y_pred, y_test_lgbm, average = 'weighted')\n",
    "    rec = recall_score(y_pred, y_test_lgbm, average = 'weighted')\n",
    "    acc = accuracy_score(y_pred, y_test_lgbm)\n",
    "    \n",
    "    res = res.append({'Preprocessing': preproc, 'Model': 'LightGBM', 'Precision': pres, \n",
    "                     'Recall': rec, 'F1-score': f1, 'Accuracy': acc}, ignore_index = True)\n",
    "\n",
    "    return res"
   ]
  },
  {
   "cell_type": "code",
   "execution_count": 25,
   "id": "5d990b69",
   "metadata": {
    "execution": {
     "iopub.execute_input": "2021-07-21T09:47:48.171298Z",
     "iopub.status.busy": "2021-07-21T09:47:48.170245Z",
     "iopub.status.idle": "2021-07-21T09:47:57.494654Z",
     "shell.execute_reply": "2021-07-21T09:47:57.493788Z",
     "shell.execute_reply.started": "2021-07-21T07:54:29.811564Z"
    },
    "papermill": {
     "duration": 9.422618,
     "end_time": "2021-07-21T09:47:57.494848",
     "exception": false,
     "start_time": "2021-07-21T09:47:48.072230",
     "status": "completed"
    },
    "tags": []
   },
   "outputs": [
    {
     "data": {
      "image/png": "[encoded data removed]",
      "text/plain": [
       "<Figure size 720x576 with 1 Axes>"
      ]
     },
     "metadata": {
      "needs_background": "light"
     },
     "output_type": "display_data"
    }
   ],
   "source": [
    "# Tune number of estimator at learning rate = 0.01\n",
    "\n",
    "X, y = BOW(data_100)\n",
    "X_train, X_test, y_train, y_test = train_test_split(X, y, test_size=0.2, random_state=4)\n",
    "ns = range(80, 301, 20)\n",
    "recalls = []\n",
    "for n in ns:\n",
    "    recalls.append(training_lgbm(X_train, X_test, y_train, y_test, 'Count', n = n, l = 0.01)['Recall'].values[0])\n",
    "fig = plt.figure(figsize = (10, 8))\n",
    "plt.plot(ns, recalls, label = 'Recall')\n",
    "plt.xlabel('Number of estimators')\n",
    "plt.ylabel('Recall')\n",
    "plt.title('LightGBM recall dependance on number of estimators with learning rate equal to 0.01')\n",
    "plt.show()"
   ]
  },
  {
   "cell_type": "code",
   "execution_count": 26,
   "id": "13ce4e3c",
   "metadata": {
    "execution": {
     "iopub.execute_input": "2021-07-21T09:47:57.697800Z",
     "iopub.status.busy": "2021-07-21T09:47:57.697046Z",
     "iopub.status.idle": "2021-07-21T09:48:00.483924Z",
     "shell.execute_reply": "2021-07-21T09:48:00.484420Z",
     "shell.execute_reply.started": "2021-07-21T07:54:40.022730Z"
    },
    "papermill": {
     "duration": 2.892172,
     "end_time": "2021-07-21T09:48:00.484620",
     "exception": false,
     "start_time": "2021-07-21T09:47:57.592448",
     "status": "completed"
    },
    "tags": []
   },
   "outputs": [
    {
     "data": {
      "text/plain": [
       "[[0.28369704749679076, 6, 6],\n",
       " [0.28369704749679076, 6, 4],\n",
       " [0.28369704749679076, 6, 2]]"
      ]
     },
     "execution_count": 26,
     "metadata": {},
     "output_type": "execute_result"
    }
   ],
   "source": [
    "# Tune maximum tree depth and minimum elements in leaf\n",
    "depths = range(2, 7, 2)\n",
    "childs = range(2, 7, 2)\n",
    "recalls = []\n",
    "for depth in depths:\n",
    "    for child in childs:\n",
    "        recalls.append([training_lgbm(X_train, X_test, y_train, y_test, 'TF-IDF 1-gram', \n",
    "                                     n = 120, l = 0.01, depth = depth, child = child)['Recall'].values[0], depth, child])\n",
    "recalls.sort(reverse = True)\n",
    "recalls[:3]"
   ]
  },
  {
   "cell_type": "code",
   "execution_count": 27,
   "id": "8b57468a",
   "metadata": {
    "execution": {
     "iopub.execute_input": "2021-07-21T09:48:00.688252Z",
     "iopub.status.busy": "2021-07-21T09:48:00.684933Z",
     "iopub.status.idle": "2021-07-21T09:48:00.697174Z",
     "shell.execute_reply": "2021-07-21T09:48:00.696400Z",
     "shell.execute_reply.started": "2021-07-21T07:54:42.036666Z"
    },
    "papermill": {
     "duration": 0.113606,
     "end_time": "2021-07-21T09:48:00.697323",
     "exception": false,
     "start_time": "2021-07-21T09:48:00.583717",
     "status": "completed"
    },
    "tags": []
   },
   "outputs": [
    {
     "data": {
      "text/plain": [
       "10    1088\n",
       "1      516\n",
       "0      371\n",
       "7      355\n",
       "8      273\n",
       "4      259\n",
       "3      224\n",
       "5      223\n",
       "9      166\n",
       "11     156\n",
       "6      155\n",
       "2      108\n",
       "Name: labels, dtype: int64"
      ]
     },
     "execution_count": 27,
     "metadata": {},
     "output_type": "execute_result"
    }
   ],
   "source": [
    "data_100['labels'].value_counts()"
   ]
  },
  {
   "cell_type": "code",
   "execution_count": 28,
   "id": "b9a06d7a",
   "metadata": {
    "execution": {
     "iopub.execute_input": "2021-07-21T09:48:00.906156Z",
     "iopub.status.busy": "2021-07-21T09:48:00.903749Z",
     "iopub.status.idle": "2021-07-21T09:48:00.913337Z",
     "shell.execute_reply": "2021-07-21T09:48:00.912512Z",
     "shell.execute_reply.started": "2021-07-21T07:54:42.048974Z"
    },
    "papermill": {
     "duration": 0.116254,
     "end_time": "2021-07-21T09:48:00.913502",
     "exception": false,
     "start_time": "2021-07-21T09:48:00.797248",
     "status": "completed"
    },
    "tags": []
   },
   "outputs": [
    {
     "name": "stdout",
     "output_type": "stream",
     "text": [
      " Obstetrics / Gynecology\n",
      " Orthopedic\n",
      " Radiology\n",
      " SOAP / Chart / Progress Notes\n",
      " Surgery\n",
      " Urology\n"
     ]
    }
   ],
   "source": [
    "for i in range(6,12):\n",
    "    print(data_100[data_100['labels']==i]['medical_specialty'].values[0])"
   ]
  },
  {
   "cell_type": "markdown",
   "id": "b67fb251",
   "metadata": {
    "papermill": {
     "duration": 0.101675,
     "end_time": "2021-07-21T09:48:01.119530",
     "exception": false,
     "start_time": "2021-07-21T09:48:01.017855",
     "status": "completed"
    },
    "tags": []
   },
   "source": [
    "## 8.4 Calculations"
   ]
  },
  {
   "cell_type": "code",
   "execution_count": 29,
   "id": "2c9e7b5f",
   "metadata": {
    "execution": {
     "iopub.execute_input": "2021-07-21T09:48:01.394699Z",
     "iopub.status.busy": "2021-07-21T09:48:01.392141Z",
     "iopub.status.idle": "2021-07-21T09:49:10.857632Z",
     "shell.execute_reply": "2021-07-21T09:49:10.858199Z",
     "shell.execute_reply.started": "2021-07-21T07:54:42.073363Z"
    },
    "papermill": {
     "duration": 69.639205,
     "end_time": "2021-07-21T09:49:10.858392",
     "exception": false,
     "start_time": "2021-07-21T09:48:01.219187",
     "status": "completed"
    },
    "tags": []
   },
   "outputs": [
    {
     "data": {
      "text/html": [
       "<div>\n",
       "<style scoped>\n",
       "    .dataframe tbody tr th:only-of-type {\n",
       "        vertical-align: middle;\n",
       "    }\n",
       "\n",
       "    .dataframe tbody tr th {\n",
       "        vertical-align: top;\n",
       "    }\n",
       "\n",
       "    .dataframe thead th {\n",
       "        text-align: right;\n",
       "    }\n",
       "</style>\n",
       "<table border=\"1\" class=\"dataframe\">\n",
       "  <thead>\n",
       "    <tr style=\"text-align: right;\">\n",
       "      <th></th>\n",
       "      <th>Preprocessing</th>\n",
       "      <th>Model</th>\n",
       "      <th>Precision</th>\n",
       "      <th>Recall</th>\n",
       "      <th>F1-score</th>\n",
       "      <th>Accuracy</th>\n",
       "    </tr>\n",
       "  </thead>\n",
       "  <tbody>\n",
       "    <tr>\n",
       "      <th>0</th>\n",
       "      <td>Count Vectorize</td>\n",
       "      <td>Naive Bayes</td>\n",
       "      <td>1.000000</td>\n",
       "      <td>0.277279</td>\n",
       "      <td>0.434171</td>\n",
       "      <td>0.277279</td>\n",
       "    </tr>\n",
       "    <tr>\n",
       "      <th>1</th>\n",
       "      <td>Count Vectorize</td>\n",
       "      <td>Naive Bayes</td>\n",
       "      <td>0.468382</td>\n",
       "      <td>0.187420</td>\n",
       "      <td>0.263047</td>\n",
       "      <td>0.187420</td>\n",
       "    </tr>\n",
       "    <tr>\n",
       "      <th>2</th>\n",
       "      <td>Count Vectorize</td>\n",
       "      <td>LightGBM</td>\n",
       "      <td>1.000000</td>\n",
       "      <td>0.277279</td>\n",
       "      <td>0.434171</td>\n",
       "      <td>0.277279</td>\n",
       "    </tr>\n",
       "    <tr>\n",
       "      <th>3</th>\n",
       "      <td>TF-IDF 1-grams</td>\n",
       "      <td>Naive Bayes</td>\n",
       "      <td>0.832026</td>\n",
       "      <td>0.256739</td>\n",
       "      <td>0.392396</td>\n",
       "      <td>0.256739</td>\n",
       "    </tr>\n",
       "    <tr>\n",
       "      <th>4</th>\n",
       "      <td>TF-IDF 1-grams</td>\n",
       "      <td>Naive Bayes</td>\n",
       "      <td>1.000000</td>\n",
       "      <td>0.277279</td>\n",
       "      <td>0.434171</td>\n",
       "      <td>0.277279</td>\n",
       "    </tr>\n",
       "    <tr>\n",
       "      <th>5</th>\n",
       "      <td>TF-IDF 1-grams</td>\n",
       "      <td>LightGBM</td>\n",
       "      <td>1.000000</td>\n",
       "      <td>0.277279</td>\n",
       "      <td>0.434171</td>\n",
       "      <td>0.277279</td>\n",
       "    </tr>\n",
       "    <tr>\n",
       "      <th>6</th>\n",
       "      <td>TF-IDF 2-grams</td>\n",
       "      <td>Naive Bayes</td>\n",
       "      <td>0.810726</td>\n",
       "      <td>0.251605</td>\n",
       "      <td>0.384028</td>\n",
       "      <td>0.251605</td>\n",
       "    </tr>\n",
       "    <tr>\n",
       "      <th>7</th>\n",
       "      <td>TF-IDF 2-grams</td>\n",
       "      <td>Naive Bayes</td>\n",
       "      <td>1.000000</td>\n",
       "      <td>0.277279</td>\n",
       "      <td>0.434171</td>\n",
       "      <td>0.277279</td>\n",
       "    </tr>\n",
       "    <tr>\n",
       "      <th>8</th>\n",
       "      <td>TF-IDF 2-grams</td>\n",
       "      <td>LightGBM</td>\n",
       "      <td>1.000000</td>\n",
       "      <td>0.277279</td>\n",
       "      <td>0.434171</td>\n",
       "      <td>0.277279</td>\n",
       "    </tr>\n",
       "    <tr>\n",
       "      <th>9</th>\n",
       "      <td>Word2vec</td>\n",
       "      <td>Naive Bayes</td>\n",
       "      <td>0.971164</td>\n",
       "      <td>0.278562</td>\n",
       "      <td>0.429405</td>\n",
       "      <td>0.278562</td>\n",
       "    </tr>\n",
       "  </tbody>\n",
       "</table>\n",
       "</div>"
      ],
      "text/plain": [
       "     Preprocessing        Model  Precision    Recall  F1-score  Accuracy\n",
       "0  Count Vectorize  Naive Bayes   1.000000  0.277279  0.434171  0.277279\n",
       "1  Count Vectorize  Naive Bayes   0.468382  0.187420  0.263047  0.187420\n",
       "2  Count Vectorize     LightGBM   1.000000  0.277279  0.434171  0.277279\n",
       "3   TF-IDF 1-grams  Naive Bayes   0.832026  0.256739  0.392396  0.256739\n",
       "4   TF-IDF 1-grams  Naive Bayes   1.000000  0.277279  0.434171  0.277279\n",
       "5   TF-IDF 1-grams     LightGBM   1.000000  0.277279  0.434171  0.277279\n",
       "6   TF-IDF 2-grams  Naive Bayes   0.810726  0.251605  0.384028  0.251605\n",
       "7   TF-IDF 2-grams  Naive Bayes   1.000000  0.277279  0.434171  0.277279\n",
       "8   TF-IDF 2-grams     LightGBM   1.000000  0.277279  0.434171  0.277279\n",
       "9         Word2vec  Naive Bayes   0.971164  0.278562  0.429405  0.278562"
      ]
     },
     "execution_count": 29,
     "metadata": {},
     "output_type": "execute_result"
    }
   ],
   "source": [
    "# Dataframe for result evaluation\n",
    "full_result = pd.DataFrame(columns = ['Preprocessing','Model','Precision','Recall','F1-score','Accuracy'])\n",
    "\n",
    "# Testing count vectorizer\n",
    "\n",
    "X,y = BOW(data_100)\n",
    "\n",
    "X_train,X_test,y_train,y_test  =train_test_split(X,y,test_size = 0.2,random_state = 40)\n",
    "full_result = full_result.append(training_logreg(X_train,X_test,y_train,y_test,'Count Vectorize'),ignore_index= True)\n",
    "full_result = full_result.append(training_naive(X_train,X_test,y_train,y_test,'Count Vectorize'),ignore_index= True)\n",
    "\n",
    "full_result = full_result.append(training_lgbm(X_train,X_test,y_train,y_test,'Count Vectorize'),ignore_index= True)\n",
    "\n",
    "\n",
    "# Testing TF-IDF with 1-gram\n",
    "X,y = tfidf(data_100,ngrams = 1)\n",
    "X_train,X_test,y_train,y_test = train_test_split(X,y,test_size = 0.2,random_state = 40)\n",
    "full_result = full_result.append(training_naive(X_train, X_test, y_train, y_test, 'TF-IDF 1-grams'), ignore_index = True)\n",
    "full_result = full_result.append(training_logreg(X_train, X_test, y_train, y_test, 'TF-IDF 1-grams'), ignore_index = True)\n",
    "full_result = full_result.append(training_lgbm(X_train, X_test, y_train, y_test, 'TF-IDF 1-grams'), ignore_index = True)\n",
    "\n",
    "# Testing TF-IDF with 2-gram\n",
    "X,y = tfidf(data_100,ngrams = 2)\n",
    "X_train,X_test,y_train,y_test = train_test_split(X,y,test_size = 0.2,random_state = 40)\n",
    "full_result = full_result.append(training_naive(X_train, X_test, y_train, y_test, 'TF-IDF 2-grams'), ignore_index = True)\n",
    "full_result = full_result.append(training_logreg(X_train, X_test, y_train, y_test, 'TF-IDF 2-grams'), ignore_index = True)\n",
    "full_result = full_result.append(training_lgbm(X_train, X_test, y_train, y_test, 'TF-IDF 2-grams'), ignore_index = True)\n",
    "\n",
    "# Testing Word2vec\n",
    "\n",
    "X, y = w2v(data_100)\n",
    "X_train, X_test, y_train, y_test = train_test_split(X, y, test_size=0.2, random_state=40)\n",
    "full_result = full_result.append(training_logreg(X_train, X_test, y_train, y_test, 'Word2vec'), ignore_index = True)\n",
    "\n",
    "full_result"
   ]
  },
  {
   "cell_type": "markdown",
   "id": "89b58c2f",
   "metadata": {
    "papermill": {
     "duration": 0.09835,
     "end_time": "2021-07-21T09:49:11.055264",
     "exception": false,
     "start_time": "2021-07-21T09:49:10.956914",
     "status": "completed"
    },
    "tags": []
   },
   "source": [
    "## 9. Best model result analysis\n",
    "\n",
    "The socres became higher. Let us take a look on confusion matrix for the best model"
   ]
  },
  {
   "cell_type": "code",
   "execution_count": 30,
   "id": "682509b7",
   "metadata": {
    "execution": {
     "iopub.execute_input": "2021-07-21T09:49:11.259575Z",
     "iopub.status.busy": "2021-07-21T09:49:11.258763Z",
     "iopub.status.idle": "2021-07-21T09:49:54.558872Z",
     "shell.execute_reply": "2021-07-21T09:49:54.559894Z",
     "shell.execute_reply.started": "2021-07-21T07:55:50.482203Z"
    },
    "papermill": {
     "duration": 43.40559,
     "end_time": "2021-07-21T09:49:54.560249",
     "exception": false,
     "start_time": "2021-07-21T09:49:11.154659",
     "status": "completed"
    },
    "tags": []
   },
   "outputs": [],
   "source": [
    "# Re-setup the algorithm\n",
    "\n",
    "X,y = w2v(data_100)\n",
    "X_train_log,X_test_log,y_train_log,y_test_log = train_test_split(X,y,test_size = 0.2,random_state = 40)\n",
    "\n",
    "folds  =StratifiedKFold(n_splits = 3,shuffle=True,random_state  =40)\n",
    "clf_w2v = LogisticRegressionCV(cv =folds,solver='saga',multi_class='multinomial',n_jobs = -1)\n",
    "clf_w2v.fit(X_train_log,y_train_log)\n",
    "y_pred = clf_w2v.predict(X_test_log)"
   ]
  },
  {
   "cell_type": "code",
   "execution_count": 31,
   "id": "92c3228c",
   "metadata": {
    "execution": {
     "iopub.execute_input": "2021-07-21T09:49:54.814927Z",
     "iopub.status.busy": "2021-07-21T09:49:54.814228Z",
     "iopub.status.idle": "2021-07-21T09:49:54.819915Z",
     "shell.execute_reply": "2021-07-21T09:49:54.819367Z",
     "shell.execute_reply.started": "2021-07-21T07:56:33.988869Z"
    },
    "papermill": {
     "duration": 0.108414,
     "end_time": "2021-07-21T09:49:54.820088",
     "exception": false,
     "start_time": "2021-07-21T09:49:54.711674",
     "status": "completed"
    },
    "tags": []
   },
   "outputs": [],
   "source": [
    "import _pickle as cPickle\n",
    "# save the classifier\n",
    "with open('logistic_regression.pkl', 'wb') as fid:\n",
    "    cPickle.dump(clf_w2v, fid)    "
   ]
  },
  {
   "cell_type": "code",
   "execution_count": 32,
   "id": "356d1600",
   "metadata": {
    "execution": {
     "iopub.execute_input": "2021-07-21T09:49:55.025854Z",
     "iopub.status.busy": "2021-07-21T09:49:55.024844Z",
     "iopub.status.idle": "2021-07-21T09:49:55.028547Z",
     "shell.execute_reply": "2021-07-21T09:49:55.027956Z",
     "shell.execute_reply.started": "2021-07-21T07:56:34.001124Z"
    },
    "papermill": {
     "duration": 0.111735,
     "end_time": "2021-07-21T09:49:55.028706",
     "exception": false,
     "start_time": "2021-07-21T09:49:54.916971",
     "status": "completed"
    },
    "tags": []
   },
   "outputs": [],
   "source": [
    "def plot_confusion_matrix(cm,classes,normalize=False,title='Confusion Matrix',cmap = plt.cm.winter):\n",
    "    if normalize:\n",
    "        cm = cm.astype('float')/cm.sum(axis = 1)[:,np.newaxis]\n",
    "        \n",
    "    plt.imshow(cm,interpolation='nearest',cmap = cmap)\n",
    "    plt.title(title,fontsize = 20)\n",
    "    plt.colorbar()\n",
    "    tick_marks = np.arange(len(classes))\n",
    "    plt.xticks(tick_marks,classes,fontsize = 10,rotation=90)\n",
    "    plt.yticks(tick_marks,classes,fontsize = 10)\n",
    "    \n",
    "    fmt = '.2f' if normalize else 'd'\n",
    "    thresh = cm.max()/2\n",
    "    \n",
    "    for i,j in itertools.product(range(cm.shape[0]),range(cm.shape[1])):\n",
    "        plt.text(j,i,format(cm[i,j],fmt),horizontalalignment = 'center',\n",
    "                color = 'white' if cm[i,j]< thresh else 'black', fontsize = 12)\n",
    "    plt.tight_layout()\n",
    "    plt.ylabel(\"True label\",fontsize = 20)\n",
    "    plt.xlabel('Predicted label', fontsize = 20)\n",
    "    \n",
    "    return plt"
   ]
  },
  {
   "cell_type": "code",
   "execution_count": 33,
   "id": "e1c642af",
   "metadata": {
    "execution": {
     "iopub.execute_input": "2021-07-21T09:49:55.232086Z",
     "iopub.status.busy": "2021-07-21T09:49:55.231134Z",
     "iopub.status.idle": "2021-07-21T09:49:56.689911Z",
     "shell.execute_reply": "2021-07-21T09:49:56.689234Z",
     "shell.execute_reply.started": "2021-07-21T07:56:34.018460Z"
    },
    "papermill": {
     "duration": 1.559678,
     "end_time": "2021-07-21T09:49:56.690055",
     "exception": false,
     "start_time": "2021-07-21T09:49:55.130377",
     "status": "completed"
    },
    "tags": []
   },
   "outputs": [
    {
     "data": {
      "image/png": "[encoded data removed]",
      "text/plain": [
       "<Figure size 1152x1152 with 2 Axes>"
      ]
     },
     "metadata": {
      "needs_background": "light"
     },
     "output_type": "display_data"
    }
   ],
   "source": [
    "classes = [' Cardiovascular / Pulmonary', ' Consult - History and Phy.', ' Discharge Summary',\n",
    "           ' Gastroenterology', ' General Medicine', ' Neurology', ' Obstetrics / Gynecology',\n",
    "           ' Orthopedic', ' Radiology', ' SOAP / Chart / Progress Notes', ' Surgery', ' Urology']\n",
    "cm = confusion_matrix(y_test_log, y_pred)\n",
    "fig = plt.figure(figsize=(16, 16))\n",
    "plot = plot_confusion_matrix(cm, classes=classes, normalize=False, \n",
    "                             title='Confusion matrix')\n",
    "plt.show()"
   ]
  },
  {
   "cell_type": "markdown",
   "id": "5442db25",
   "metadata": {
    "papermill": {
     "duration": 0.099009,
     "end_time": "2021-07-21T09:49:56.889223",
     "exception": false,
     "start_time": "2021-07-21T09:49:56.790214",
     "status": "completed"
    },
    "tags": []
   },
   "source": [
    "Another way to see how the model works is to manually watch at the most valuable and the least valuable words for the class."
   ]
  },
  {
   "cell_type": "code",
   "execution_count": 34,
   "id": "894ddc0c",
   "metadata": {
    "execution": {
     "iopub.execute_input": "2021-07-21T09:49:57.109124Z",
     "iopub.status.busy": "2021-07-21T09:49:57.108396Z",
     "iopub.status.idle": "2021-07-21T09:50:41.467163Z",
     "shell.execute_reply": "2021-07-21T09:50:41.466108Z",
     "shell.execute_reply.started": "2021-07-21T07:56:35.732957Z"
    },
    "papermill": {
     "duration": 44.479134,
     "end_time": "2021-07-21T09:50:41.467432",
     "exception": false,
     "start_time": "2021-07-21T09:49:56.988298",
     "status": "completed"
    },
    "tags": []
   },
   "outputs": [],
   "source": [
    "vector_store = word2vec\n",
    "\n",
    "def word2vec_pipeline(examples):\n",
    "    global vector_store\n",
    "    tokenizer = RegexpTokenizer(r'\\w+')\n",
    "    tokenized_list = []\n",
    "    for example in examples:\n",
    "        example_tokens = tokenizer.tokenize(example)\n",
    "        vectorized_example = get_average_word2vec(example_tokens,vector_store,generate_missing=False,k =300)\n",
    "        tokenized_list.append(vectorized_example)\n",
    "    return clf_w2v.predict_proba(tokenized_list)\n",
    "\n",
    "c = make_pipeline(CountVectorizer(),clf)\n",
    "\n",
    "random.seed(40)\n",
    "\n",
    "data_100_prep = basic_preprocessing(data_100)\n",
    "list_corpus = data_100_prep['text'].tolist()\n",
    "list_labels = data_100_prep['class_label'].tolist()\n",
    "\n",
    "X_train_data,X_test_data,y_train_data,y_test_data = train_test_split(list_corpus,list_labels,test_size = 0.2,random_state = 40)\n",
    "\n",
    "def get_statistical_explanation(test_set,sample_size,word2vec_pipeline,label_dict):\n",
    "    sample_sentences = random.sample(test_set, sample_size)\n",
    "    explainer = LimeTextExplainer()\n",
    "    \n",
    "    labels_to_sentences = defaultdict(list)\n",
    "    contributors = defaultdict(dict)\n",
    "    \n",
    "    # First, find contributing words to each class\n",
    "    for sentence in sample_sentences:\n",
    "        probabilities = word2vec_pipeline([sentence])\n",
    "        curr_label = probabilities[0].argmax()\n",
    "        labels_to_sentences[curr_label].append(sentence)\n",
    "        exp = explainer.explain_instance(sentence, word2vec_pipeline, num_features=6, labels=[curr_label])\n",
    "        listed_explanation = exp.as_list(label=curr_label)\n",
    "        \n",
    "        for word,contributing_weight in listed_explanation:\n",
    "            if word in contributors[curr_label]:\n",
    "                contributors[curr_label][word].append(contributing_weight)\n",
    "            else:\n",
    "                contributors[curr_label][word] = [contributing_weight]    \n",
    "    \n",
    "    # average each word's contribution to a class, and sort them by impact\n",
    "    average_contributions = {}\n",
    "    sorted_contributions = {}\n",
    "    for label,lexica in contributors.items():\n",
    "        curr_label = label\n",
    "        curr_lexica = lexica\n",
    "        average_contributions[curr_label] = pd.Series(index=curr_lexica.keys())\n",
    "        for word,scores in curr_lexica.items():\n",
    "            average_contributions[curr_label].loc[word] = np.sum(np.array(scores))/sample_size\n",
    "        detractors = average_contributions[curr_label].sort_values()\n",
    "        supporters = average_contributions[curr_label].sort_values(ascending=False)\n",
    "        sorted_contributions[label_dict[curr_label]] = {\n",
    "            'detractors':detractors,\n",
    "             'supporters': supporters\n",
    "        }\n",
    "    return sorted_contributions\n",
    "    \n",
    "    \n",
    "\n",
    "label_to_text = {\n",
    "    0: ' Cardiovascular / Pulmonary',\n",
    "    1: ' Consult - History and Phy.',\n",
    "    2: ' Discharge Summary',\n",
    "    3: ' Gastroenterology',\n",
    "    4: ' General Medicine',\n",
    "    5: ' Neurology',\n",
    "    6: ' Obstetrics / Gynecology',\n",
    "    7: ' Orthopedic',\n",
    "    8: ' Radiology',\n",
    "    9: ' SOAP / Chart / Progress Notes',\n",
    "    10: ' Surgery',\n",
    "    11: ' Urology'\n",
    "}\n",
    "sorted_contributions = get_statistical_explanation(X_test_data, 100, word2vec_pipeline, label_to_text)"
   ]
  },
  {
   "cell_type": "code",
   "execution_count": 35,
   "id": "3a62078c",
   "metadata": {
    "execution": {
     "iopub.execute_input": "2021-07-21T09:50:41.713954Z",
     "iopub.status.busy": "2021-07-21T09:50:41.712098Z",
     "iopub.status.idle": "2021-07-21T09:50:41.966852Z",
     "shell.execute_reply": "2021-07-21T09:50:41.966324Z",
     "shell.execute_reply.started": "2021-07-21T07:57:21.527037Z"
    },
    "papermill": {
     "duration": 0.368778,
     "end_time": "2021-07-21T09:50:41.967009",
     "exception": false,
     "start_time": "2021-07-21T09:50:41.598231",
     "status": "completed"
    },
    "tags": []
   },
   "outputs": [
    {
     "data": {
      "image/png": "[encoded data removed]",
      "text/plain": [
       "<Figure size 720x720 with 2 Axes>"
      ]
     },
     "metadata": {
      "needs_background": "light"
     },
     "output_type": "display_data"
    }
   ],
   "source": [
    "def plot_important_words(top_scores, top_words, bottom_scores, bottom_words, name):\n",
    "    y_pos = np.arange(len(top_words))\n",
    "    top_pairs = [(a,b) for a,b in zip(top_words, top_scores)]\n",
    "    top_pairs = sorted(top_pairs, key=lambda x: x[1])\n",
    "    \n",
    "    bottom_pairs = [(a,b) for a,b in zip(bottom_words, bottom_scores)]\n",
    "    bottom_pairs = sorted(bottom_pairs, key=lambda x: x[1], reverse=True)\n",
    "    \n",
    "    top_words = [a[0] for a in top_pairs]\n",
    "    top_scores = [a[1] for a in top_pairs]\n",
    "    \n",
    "    bottom_words = [a[0] for a in bottom_pairs]\n",
    "    bottom_scores = [a[1] for a in bottom_pairs]\n",
    "    \n",
    "    fig = plt.figure(figsize=(10, 10))  \n",
    "\n",
    "    plt.subplot(121)\n",
    "    plt.barh(y_pos,bottom_scores, align='center', alpha=0.5)\n",
    "    plt.title('Irrelevant', fontsize=14)\n",
    "    plt.yticks(y_pos, bottom_words, fontsize=10)\n",
    "    plt.suptitle('Key words', fontsize=12)\n",
    "    plt.xlabel('Importance', fontsize=12)\n",
    "    plt.subplot(122)\n",
    "    plt.barh(y_pos,top_scores, align='center', alpha=0.5)\n",
    "    plt.title(\"Relevant for \" + name, fontsize=14)\n",
    "    plt.yticks(y_pos, top_words, fontsize=12)\n",
    "    plt.suptitle(f\"Most important words for {name}\", fontsize=16)\n",
    "    plt.xlabel('Importance', fontsize=12)\n",
    "    \n",
    "    plt.subplots_adjust(wspace=0.8)\n",
    "    plt.show()\n",
    "\n",
    "test_label = ' Neurology'\n",
    "top_words = sorted_contributions[test_label]['supporters'][:5].index.tolist()\n",
    "top_scores = sorted_contributions[test_label]['supporters'][:5].tolist()\n",
    "bottom_words = sorted_contributions[test_label]['detractors'][:5].index.tolist()\n",
    "bottom_scores = sorted_contributions[test_label]['detractors'][:5].tolist()\n",
    "\n",
    "plot_important_words(top_scores, top_words, bottom_scores, bottom_words, test_label)"
   ]
  },
  {
   "cell_type": "markdown",
   "id": "c7f44564",
   "metadata": {
    "papermill": {
     "duration": 0.101533,
     "end_time": "2021-07-21T09:50:42.169942",
     "exception": false,
     "start_time": "2021-07-21T09:50:42.068409",
     "status": "completed"
    },
    "tags": []
   },
   "source": [
    "The words influence on relevancy seems to be truthful. Which can mean that we are going in the right direction\n",
    "\n",
    "Let us continue with fixing the class imbalance\n",
    "\n",
    "## 10. Retrieving sample unbalance problem\n",
    "\n",
    "We can see that classes imbalance still prevents us from getting a better result\n",
    "\n",
    "There are several ways to fight imbalance:\n",
    "1. Undersampling\n",
    "2. Oversampling\n",
    "3. Use classifiers with class-weight adjustments\n",
    "\n",
    "The last one we already did with logistic regression\n",
    "\n",
    "Undersampling is cutting off some observations of the major classes to make them more comparable in count with the minor ones. Due to the amount of data we have, such approach might not be profitable, as we make the amount of data even smaller, which might affect model quality. But still we can try. Simple random drop of some observations share based on the assumption that dropping some samples will notaffect the distribution. Randomess of the samples pick and small amount of data doesn't ensure it. SO, we need to apply more complex methods\n",
    "\n",
    "Oversampling, counterwise to undersampling, is adding more copies of observations from minor classes to straighted classes distribution. AS we are working with text data, doubling some samples will probably lead to overfitting on these samples. So, just like in the case of undersampling we will need more complex approach\n",
    "\n",
    "\n",
    "## 10.1 Undersampling: Naive Approach\n",
    "\n",
    "First we check how many observation the undersampling algorithm cuts off"
   ]
  },
  {
   "cell_type": "code",
   "execution_count": 36,
   "id": "bb12f246",
   "metadata": {
    "execution": {
     "iopub.execute_input": "2021-07-21T09:50:42.382720Z",
     "iopub.status.busy": "2021-07-21T09:50:42.381579Z",
     "iopub.status.idle": "2021-07-21T09:50:44.768427Z",
     "shell.execute_reply": "2021-07-21T09:50:44.767704Z",
     "shell.execute_reply.started": "2021-07-21T08:06:04.860208Z"
    },
    "papermill": {
     "duration": 2.498704,
     "end_time": "2021-07-21T09:50:44.768580",
     "exception": false,
     "start_time": "2021-07-21T09:50:42.269876",
     "status": "completed"
    },
    "tags": []
   },
   "outputs": [
    {
     "name": "stdout",
     "output_type": "stream",
     "text": [
      "Initial set observations 3894\n",
      "Initial set target classes 12\n",
      "Modified set observations 2914\n",
      "Modified set target classes 12\n"
     ]
    }
   ],
   "source": [
    "naive_under_sample = RandomUnderSampler(sampling_strategy='majority')\n",
    "X,y = BOW(data_100)\n",
    "print(f\"Initial set observations {X.shape[0]}\")\n",
    "print(f\"Initial set target classes {len(set(y))}\")\n",
    "X,y = naive_under_sample.fit_resample(X,y)\n",
    "print(f\"Modified set observations {X.shape[0]}\")\n",
    "print(f\"Modified set target classes {len(set(y))}\")"
   ]
  },
  {
   "cell_type": "code",
   "execution_count": 37,
   "id": "d9fb150c",
   "metadata": {
    "execution": {
     "iopub.execute_input": "2021-07-21T09:50:44.991478Z",
     "iopub.status.busy": "2021-07-21T09:50:44.990326Z",
     "iopub.status.idle": "2021-07-21T09:51:27.762596Z",
     "shell.execute_reply": "2021-07-21T09:51:27.763460Z",
     "shell.execute_reply.started": "2021-07-21T08:22:56.779193Z"
    },
    "papermill": {
     "duration": 42.892335,
     "end_time": "2021-07-21T09:51:27.763768",
     "exception": false,
     "start_time": "2021-07-21T09:50:44.871433",
     "status": "completed"
    },
    "tags": []
   },
   "outputs": [],
   "source": [
    "# Dataframe for result evaluation\n",
    "\n",
    "naive_result = pd.DataFrame(columns = ['Preprocessing','Model','Precision','Recall','F1-score','Accuracy'])\n",
    "naive_under_sample = RandomUnderSampler(sampling_strategy = 'majority')\n",
    "\n",
    "# Testing Count Vectorizer\n",
    "X,y = BOW(data_100)\n",
    "X,y = naive_under_sample.fit_resample(X,y)\n",
    "X_train,X_test,y_train,y_test = train_test_split(X,y,test_size = 0.2,random_state = 40)\n",
    "naive_result = naive_result.append(training_naive(X_train,X_test,y_train,y_test,'Count Vectorize'),ignore_index=True)\n",
    "naive_result = naive_result.append(training_logreg(X_train,X_test,y_train,y_test,'Count Vectorize'),ignore_index = True)\n",
    "naive_result = naive_result.append(training_lgbm(X_train,X_test,y_train,y_test,'Count Vectorize'),ignore_index=True)\n",
    "\n",
    "# Testing TF-IDF with 1-gram\n",
    "X,y = tfidf(data_100,ngrams = 1)\n",
    "X,y = naive_under_sample.fit_resample(X,y)\n",
    "X_train,X_test,y_train,y_test = train_test_split(X,y,test_size = 0.2,random_state = 40)\n",
    "naive_result = naive_result.append(training_naive(X_train,X_test,y_train,y_test,'TF-IDF 1-grams'),ignore_index=True)\n",
    "naive_result = naive_result.append(training_logreg(X_train,X_test,y_train,y_test,'TF-IDF 1-grams'),ignore_index = True)\n",
    "naive_result = naive_result.append(training_lgbm(X_train,X_test,y_train,y_test,'TF-IDF 1-grams'),ignore_index=True)\n",
    "\n",
    "# Testing Word2Vec\n",
    "\n",
    "X,y = w2v(data_100)\n",
    "X, y = naive_under_sample.fit_resample(X, y)\n",
    "X_train, X_test, y_train, y_test = train_test_split(X, y, test_size=0.2, random_state=40)\n",
    "naive_result = naive_result.append(training_logreg(X_train, X_test, y_train, y_test, 'Word2vec'), ignore_index = True)"
   ]
  },
  {
   "cell_type": "code",
   "execution_count": 38,
   "id": "a4f46ab9",
   "metadata": {
    "execution": {
     "iopub.execute_input": "2021-07-21T09:51:28.034854Z",
     "iopub.status.busy": "2021-07-21T09:51:28.033345Z",
     "iopub.status.idle": "2021-07-21T09:51:28.039405Z",
     "shell.execute_reply": "2021-07-21T09:51:28.040004Z",
     "shell.execute_reply.started": "2021-07-21T08:23:38.532251Z"
    },
    "papermill": {
     "duration": 0.126089,
     "end_time": "2021-07-21T09:51:28.040244",
     "exception": false,
     "start_time": "2021-07-21T09:51:27.914155",
     "status": "completed"
    },
    "tags": []
   },
   "outputs": [
    {
     "data": {
      "text/html": [
       "<div>\n",
       "<style scoped>\n",
       "    .dataframe tbody tr th:only-of-type {\n",
       "        vertical-align: middle;\n",
       "    }\n",
       "\n",
       "    .dataframe tbody tr th {\n",
       "        vertical-align: top;\n",
       "    }\n",
       "\n",
       "    .dataframe thead th {\n",
       "        text-align: right;\n",
       "    }\n",
       "</style>\n",
       "<table border=\"1\" class=\"dataframe\">\n",
       "  <thead>\n",
       "    <tr style=\"text-align: right;\">\n",
       "      <th></th>\n",
       "      <th>Preprocessing</th>\n",
       "      <th>Model</th>\n",
       "      <th>Precision</th>\n",
       "      <th>Recall</th>\n",
       "      <th>F1-score</th>\n",
       "      <th>Accuracy</th>\n",
       "    </tr>\n",
       "  </thead>\n",
       "  <tbody>\n",
       "    <tr>\n",
       "      <th>0</th>\n",
       "      <td>Count Vectorize</td>\n",
       "      <td>Naive Bayes</td>\n",
       "      <td>0.357811</td>\n",
       "      <td>0.097770</td>\n",
       "      <td>0.149455</td>\n",
       "      <td>0.097770</td>\n",
       "    </tr>\n",
       "    <tr>\n",
       "      <th>1</th>\n",
       "      <td>Count Vectorize</td>\n",
       "      <td>Naive Bayes</td>\n",
       "      <td>1.000000</td>\n",
       "      <td>0.174957</td>\n",
       "      <td>0.297810</td>\n",
       "      <td>0.174957</td>\n",
       "    </tr>\n",
       "    <tr>\n",
       "      <th>2</th>\n",
       "      <td>Count Vectorize</td>\n",
       "      <td>LightGBM</td>\n",
       "      <td>1.000000</td>\n",
       "      <td>0.174957</td>\n",
       "      <td>0.297810</td>\n",
       "      <td>0.174957</td>\n",
       "    </tr>\n",
       "    <tr>\n",
       "      <th>3</th>\n",
       "      <td>TF-IDF 1-grams</td>\n",
       "      <td>Naive Bayes</td>\n",
       "      <td>0.389382</td>\n",
       "      <td>0.094340</td>\n",
       "      <td>0.151881</td>\n",
       "      <td>0.094340</td>\n",
       "    </tr>\n",
       "    <tr>\n",
       "      <th>4</th>\n",
       "      <td>TF-IDF 1-grams</td>\n",
       "      <td>Naive Bayes</td>\n",
       "      <td>1.000000</td>\n",
       "      <td>0.174957</td>\n",
       "      <td>0.297810</td>\n",
       "      <td>0.174957</td>\n",
       "    </tr>\n",
       "    <tr>\n",
       "      <th>5</th>\n",
       "      <td>TF-IDF 1-grams</td>\n",
       "      <td>LightGBM</td>\n",
       "      <td>1.000000</td>\n",
       "      <td>0.174957</td>\n",
       "      <td>0.297810</td>\n",
       "      <td>0.174957</td>\n",
       "    </tr>\n",
       "    <tr>\n",
       "      <th>6</th>\n",
       "      <td>Word2vec</td>\n",
       "      <td>Naive Bayes</td>\n",
       "      <td>0.982039</td>\n",
       "      <td>0.176672</td>\n",
       "      <td>0.295121</td>\n",
       "      <td>0.176672</td>\n",
       "    </tr>\n",
       "  </tbody>\n",
       "</table>\n",
       "</div>"
      ],
      "text/plain": [
       "     Preprocessing        Model  Precision    Recall  F1-score  Accuracy\n",
       "0  Count Vectorize  Naive Bayes   0.357811  0.097770  0.149455  0.097770\n",
       "1  Count Vectorize  Naive Bayes   1.000000  0.174957  0.297810  0.174957\n",
       "2  Count Vectorize     LightGBM   1.000000  0.174957  0.297810  0.174957\n",
       "3   TF-IDF 1-grams  Naive Bayes   0.389382  0.094340  0.151881  0.094340\n",
       "4   TF-IDF 1-grams  Naive Bayes   1.000000  0.174957  0.297810  0.174957\n",
       "5   TF-IDF 1-grams     LightGBM   1.000000  0.174957  0.297810  0.174957\n",
       "6         Word2vec  Naive Bayes   0.982039  0.176672  0.295121  0.176672"
      ]
     },
     "execution_count": 38,
     "metadata": {},
     "output_type": "execute_result"
    }
   ],
   "source": [
    "naive_result"
   ]
  },
  {
   "cell_type": "markdown",
   "id": "65d230a8",
   "metadata": {
    "papermill": {
     "duration": 0.101779,
     "end_time": "2021-07-21T09:51:28.246339",
     "exception": false,
     "start_time": "2021-07-21T09:51:28.144560",
     "status": "completed"
    },
    "tags": []
   },
   "source": [
    "One can see, that naive approach didn't make any significant gain in metrics. Recall became better in overall,but precision dropped. F1-score therefore slightly decreased.\n",
    "\n",
    "As an alternative we will try NeaarMiss method\n",
    "\n",
    "## 10.2 Undersampling NearMiss\n",
    "\n",
    "How many observation the undersampling algorithm cuts off"
   ]
  },
  {
   "cell_type": "code",
   "execution_count": 39,
   "id": "26c0528f",
   "metadata": {
    "execution": {
     "iopub.execute_input": "2021-07-21T09:51:28.462792Z",
     "iopub.status.busy": "2021-07-21T09:51:28.461975Z",
     "iopub.status.idle": "2021-07-21T09:51:30.766525Z",
     "shell.execute_reply": "2021-07-21T09:51:30.765897Z",
     "shell.execute_reply.started": "2021-07-21T08:27:49.019041Z"
    },
    "papermill": {
     "duration": 2.418635,
     "end_time": "2021-07-21T09:51:30.766683",
     "exception": false,
     "start_time": "2021-07-21T09:51:28.348048",
     "status": "completed"
    },
    "tags": []
   },
   "outputs": [
    {
     "name": "stdout",
     "output_type": "stream",
     "text": [
      "Initial set observations 3894\n",
      "Initial set target classes 12\n",
      "Modified set observations 2914\n",
      "Modified set target classes 12\n"
     ]
    }
   ],
   "source": [
    "near_under_sample = NearMiss(sampling_strategy='majority')\n",
    "X,y = BOW(data_100)\n",
    "print(f\"Initial set observations {X.shape[0]}\")\n",
    "print(f\"Initial set target classes {len(set(y))}\")\n",
    "X,y = near_under_sample.fit_resample(X,y)\n",
    "print(f\"Modified set observations {X.shape[0]}\")\n",
    "print(f\"Modified set target classes {len(set(y))}\")"
   ]
  },
  {
   "cell_type": "code",
   "execution_count": 40,
   "id": "7af3f894",
   "metadata": {
    "execution": {
     "iopub.execute_input": "2021-07-21T09:51:30.993339Z",
     "iopub.status.busy": "2021-07-21T09:51:30.992588Z",
     "iopub.status.idle": "2021-07-21T09:52:12.822497Z",
     "shell.execute_reply": "2021-07-21T09:52:12.823702Z",
     "shell.execute_reply.started": "2021-07-21T09:12:51.312683Z"
    },
    "papermill": {
     "duration": 41.952836,
     "end_time": "2021-07-21T09:52:12.824024",
     "exception": false,
     "start_time": "2021-07-21T09:51:30.871188",
     "status": "completed"
    },
    "tags": []
   },
   "outputs": [],
   "source": [
    "# Dataframe for result evaluation\n",
    "\n",
    "near_result = pd.DataFrame(columns = ['Preprocessing','Model','Precision','Recall','F1-score','Accuracy'])\n",
    "near_under_sample = NearMiss(sampling_strategy='majority')\n",
    "\n",
    "# Testing Count Vectorizer\n",
    "\n",
    "X,y = BOW(data_100)\n",
    "X,y = near_under_sample.fit_resample(X,y)\n",
    "X_train,X_test,y_train,y_test = train_test_split(X,y,test_size = 0.2,random_state = 40)\n",
    "near_result=near_result.append(training_naive(X_train,X_test,y_train,y_test,\"Count Vectorize\"),ignore_index=True)\n",
    "near_result = near_result.append(training_logreg(X_train,X_test,y_train,y_test,'Count Vectorize'),ignore_index = True)\n",
    "near_result = near_result.append(training_lgbm(X_train,X_test,y_train,y_test,'Count Vectorize'),ignore_index=True)\n",
    "\n",
    "# Testing TF-IDF with 1-gram\n",
    "\n",
    "X,y = tfidf(data_100,ngrams = 1)\n",
    "X,y = near_under_sample.fit_resample(X,y)\n",
    "X_train,X_test,y_train,y_test = train_test_split(X,y,test_size = 0.2,random_state= 40)\n",
    "near_result = near_result.append(training_naive(X_train,X_test,y_train,y_test,'TF-IDF 1-grams'),ignore_index= True)\n",
    "near_result = near_result.append(training_logreg(X_train,X_test,y_train,y_test,'TF-IDF 1-grams'),ignore_index=True)\n",
    "near_result = near_result.append(training_lgbm(X_train,X_test,y_train,y_test,'TF-IDF 1-grams'),ignore_index=True)\n",
    "\n",
    "\n",
    "# Testing Word2Vec\n",
    "\n",
    "X,y = w2v(data_100)\n",
    "X,y = near_under_sample.fit_resample(X,y)\n",
    "X_train,X_test,y_train,y_test = train_test_split(X,y,test_size = 0.2,random_state = 40)\n",
    "near_result = near_result.append(training_logreg(X_train,X_test,y_train,y_test,'Word2Vec'),ignore_index=True)"
   ]
  },
  {
   "cell_type": "code",
   "execution_count": 41,
   "id": "ff7b019e",
   "metadata": {
    "execution": {
     "iopub.execute_input": "2021-07-21T09:52:13.089917Z",
     "iopub.status.busy": "2021-07-21T09:52:13.088905Z",
     "iopub.status.idle": "2021-07-21T09:52:13.092835Z",
     "shell.execute_reply": "2021-07-21T09:52:13.093813Z",
     "shell.execute_reply.started": "2021-07-21T09:13:32.924113Z"
    },
    "papermill": {
     "duration": 0.12405,
     "end_time": "2021-07-21T09:52:13.094043",
     "exception": false,
     "start_time": "2021-07-21T09:52:12.969993",
     "status": "completed"
    },
    "tags": []
   },
   "outputs": [
    {
     "data": {
      "text/html": [
       "<div>\n",
       "<style scoped>\n",
       "    .dataframe tbody tr th:only-of-type {\n",
       "        vertical-align: middle;\n",
       "    }\n",
       "\n",
       "    .dataframe tbody tr th {\n",
       "        vertical-align: top;\n",
       "    }\n",
       "\n",
       "    .dataframe thead th {\n",
       "        text-align: right;\n",
       "    }\n",
       "</style>\n",
       "<table border=\"1\" class=\"dataframe\">\n",
       "  <thead>\n",
       "    <tr style=\"text-align: right;\">\n",
       "      <th></th>\n",
       "      <th>Preprocessing</th>\n",
       "      <th>Model</th>\n",
       "      <th>Precision</th>\n",
       "      <th>Recall</th>\n",
       "      <th>F1-score</th>\n",
       "      <th>Accuracy</th>\n",
       "    </tr>\n",
       "  </thead>\n",
       "  <tbody>\n",
       "    <tr>\n",
       "      <th>0</th>\n",
       "      <td>Count Vectorize</td>\n",
       "      <td>Naive Bayes</td>\n",
       "      <td>0.368555</td>\n",
       "      <td>0.097770</td>\n",
       "      <td>0.150226</td>\n",
       "      <td>0.097770</td>\n",
       "    </tr>\n",
       "    <tr>\n",
       "      <th>1</th>\n",
       "      <td>Count Vectorize</td>\n",
       "      <td>Naive Bayes</td>\n",
       "      <td>1.000000</td>\n",
       "      <td>0.174957</td>\n",
       "      <td>0.297810</td>\n",
       "      <td>0.174957</td>\n",
       "    </tr>\n",
       "    <tr>\n",
       "      <th>2</th>\n",
       "      <td>Count Vectorize</td>\n",
       "      <td>LightGBM</td>\n",
       "      <td>1.000000</td>\n",
       "      <td>0.174957</td>\n",
       "      <td>0.297810</td>\n",
       "      <td>0.174957</td>\n",
       "    </tr>\n",
       "    <tr>\n",
       "      <th>3</th>\n",
       "      <td>TF-IDF 1-grams</td>\n",
       "      <td>Naive Bayes</td>\n",
       "      <td>0.383833</td>\n",
       "      <td>0.094340</td>\n",
       "      <td>0.151454</td>\n",
       "      <td>0.094340</td>\n",
       "    </tr>\n",
       "    <tr>\n",
       "      <th>4</th>\n",
       "      <td>TF-IDF 1-grams</td>\n",
       "      <td>Naive Bayes</td>\n",
       "      <td>1.000000</td>\n",
       "      <td>0.174957</td>\n",
       "      <td>0.297810</td>\n",
       "      <td>0.174957</td>\n",
       "    </tr>\n",
       "    <tr>\n",
       "      <th>5</th>\n",
       "      <td>TF-IDF 1-grams</td>\n",
       "      <td>LightGBM</td>\n",
       "      <td>1.000000</td>\n",
       "      <td>0.174957</td>\n",
       "      <td>0.297810</td>\n",
       "      <td>0.174957</td>\n",
       "    </tr>\n",
       "    <tr>\n",
       "      <th>6</th>\n",
       "      <td>Word2Vec</td>\n",
       "      <td>Naive Bayes</td>\n",
       "      <td>0.982039</td>\n",
       "      <td>0.176672</td>\n",
       "      <td>0.295121</td>\n",
       "      <td>0.176672</td>\n",
       "    </tr>\n",
       "  </tbody>\n",
       "</table>\n",
       "</div>"
      ],
      "text/plain": [
       "     Preprocessing        Model  Precision    Recall  F1-score  Accuracy\n",
       "0  Count Vectorize  Naive Bayes   0.368555  0.097770  0.150226  0.097770\n",
       "1  Count Vectorize  Naive Bayes   1.000000  0.174957  0.297810  0.174957\n",
       "2  Count Vectorize     LightGBM   1.000000  0.174957  0.297810  0.174957\n",
       "3   TF-IDF 1-grams  Naive Bayes   0.383833  0.094340  0.151454  0.094340\n",
       "4   TF-IDF 1-grams  Naive Bayes   1.000000  0.174957  0.297810  0.174957\n",
       "5   TF-IDF 1-grams     LightGBM   1.000000  0.174957  0.297810  0.174957\n",
       "6         Word2Vec  Naive Bayes   0.982039  0.176672  0.295121  0.176672"
      ]
     },
     "execution_count": 41,
     "metadata": {},
     "output_type": "execute_result"
    }
   ],
   "source": [
    "near_result"
   ]
  },
  {
   "cell_type": "markdown",
   "id": "f4dbb015",
   "metadata": {
    "papermill": {
     "duration": 0.102053,
     "end_time": "2021-07-21T09:52:13.298719",
     "exception": false,
     "start_time": "2021-07-21T09:52:13.196666",
     "status": "completed"
    },
    "tags": []
   },
   "source": [
    "NearMiss method gave almost the same result as naive approach. Which may treat like naive random undersampling have basically preserved the original distribution\n",
    "\n",
    "## 10.3 Oversamplling SMOTE\n",
    "\n",
    "For oversampling algorithm check how many observation the algorithm generates"
   ]
  },
  {
   "cell_type": "code",
   "execution_count": 42,
   "id": "abcaaad3",
   "metadata": {
    "execution": {
     "iopub.execute_input": "2021-07-21T09:52:13.508373Z",
     "iopub.status.busy": "2021-07-21T09:52:13.507351Z",
     "iopub.status.idle": "2021-07-21T09:52:15.851571Z",
     "shell.execute_reply": "2021-07-21T09:52:15.850957Z",
     "shell.execute_reply.started": "2021-07-21T09:19:53.156846Z"
    },
    "papermill": {
     "duration": 2.449801,
     "end_time": "2021-07-21T09:52:15.851745",
     "exception": false,
     "start_time": "2021-07-21T09:52:13.401944",
     "status": "completed"
    },
    "tags": []
   },
   "outputs": [
    {
     "name": "stdout",
     "output_type": "stream",
     "text": [
      "Initial set observations 3894\n",
      "Initial set target classes 12\n",
      "Modified set observations 4874\n",
      "Modified set target classes 12\n"
     ]
    }
   ],
   "source": [
    "smote_over_sample = SMOTE(sampling_strategy='minority')\n",
    "X,y = BOW(data_100)\n",
    "print(f\"Initial set observations {X.shape[0]}\")\n",
    "print(f\"Initial set target classes {len(set(y))}\")\n",
    "X,y = smote_over_sample.fit_resample(X,y)\n",
    "print(f'Modified set observations {X.shape[0]}')\n",
    "print(f'Modified set target classes {len(set(y))}')"
   ]
  },
  {
   "cell_type": "code",
   "execution_count": 43,
   "id": "eada183f",
   "metadata": {
    "execution": {
     "iopub.execute_input": "2021-07-21T09:52:16.081611Z",
     "iopub.status.busy": "2021-07-21T09:52:16.080697Z",
     "iopub.status.idle": "2021-07-21T09:53:24.698179Z",
     "shell.execute_reply": "2021-07-21T09:53:24.699100Z",
     "shell.execute_reply.started": "2021-07-21T09:27:57.902360Z"
    },
    "papermill": {
     "duration": 68.742889,
     "end_time": "2021-07-21T09:53:24.699409",
     "exception": false,
     "start_time": "2021-07-21T09:52:15.956520",
     "status": "completed"
    },
    "tags": []
   },
   "outputs": [],
   "source": [
    "# DataFrame for result evaluation\n",
    "\n",
    "smote_result = pd.DataFrame(columns = ['Preprocessing','Model','Precision','Recall','F1-score','Accuracy'])\n",
    "smote_over_sample = SMOTE(sampling_strategy='minority')\n",
    "\n",
    "# Testing Count Vectorizer\n",
    "\n",
    "X,y = BOW(data_100)\n",
    "X,y = smote_over_sample.fit_resample(X,y)\n",
    "X_train,X_test,y_train,y_test = train_test_split(X,y,test_size = 0.2,random_state = 40)\n",
    "smote_result = smote_result.append(training_naive(X_train,X_test,y_train,y_test,'Count Vectorize'),ignore_index=True)\n",
    "smote_result = smote_result.append(training_logreg(X_train,X_test,y_train,y_test,'Count Vectorize'),ignore_index=True)\n",
    "smote_result = smote_result.append(training_lgbm(X_train,X_test,y_train,y_test,'Count Vectorize'),ignore_index=True)\n",
    "\n",
    "\n",
    "# Training TF-IDF with 1-gram\n",
    "\n",
    "X,y = tfidf(data_100,ngrams = 1)\n",
    "X,y = smote_over_sample.fit_resample(X,y)\n",
    "X_train, X_test, y_train, y_test = train_test_split(X, y, test_size=0.2, random_state=40)\n",
    "smote_result = smote_result.append(training_naive(X_train, X_test, y_train, y_test, 'TF-IDF 1-grams'), ignore_index = True)\n",
    "smote_result = smote_result.append(training_logreg(X_train, X_test, y_train, y_test, 'TF-IDF 1-grams'), ignore_index = True)\n",
    "smote_result = smote_result.append(training_lgbm(X_train, X_test, y_train, y_test, 'TF-IDF 1-grams'), ignore_index = True)\n",
    "\n",
    "\n",
    "# Testing Word2vec\n",
    "\n",
    "X, y = w2v(data_100)\n",
    "X, y = smote_over_sample.fit_resample(X, y)\n",
    "X_train, X_test, y_train, y_test = train_test_split(X, y, test_size=0.2, random_state=40)\n",
    "smote_result = smote_result.append(training_logreg(X_train, X_test, y_train, y_test, 'Word2vec'), ignore_index = True)"
   ]
  },
  {
   "cell_type": "code",
   "execution_count": 44,
   "id": "2c24d83c",
   "metadata": {
    "execution": {
     "iopub.execute_input": "2021-07-21T09:53:24.961343Z",
     "iopub.status.busy": "2021-07-21T09:53:24.960316Z",
     "iopub.status.idle": "2021-07-21T09:53:24.965466Z",
     "shell.execute_reply": "2021-07-21T09:53:24.964892Z",
     "shell.execute_reply.started": "2021-07-21T09:29:05.256683Z"
    },
    "papermill": {
     "duration": 0.121732,
     "end_time": "2021-07-21T09:53:24.965623",
     "exception": false,
     "start_time": "2021-07-21T09:53:24.843891",
     "status": "completed"
    },
    "tags": []
   },
   "outputs": [
    {
     "data": {
      "text/html": [
       "<div>\n",
       "<style scoped>\n",
       "    .dataframe tbody tr th:only-of-type {\n",
       "        vertical-align: middle;\n",
       "    }\n",
       "\n",
       "    .dataframe tbody tr th {\n",
       "        vertical-align: top;\n",
       "    }\n",
       "\n",
       "    .dataframe thead th {\n",
       "        text-align: right;\n",
       "    }\n",
       "</style>\n",
       "<table border=\"1\" class=\"dataframe\">\n",
       "  <thead>\n",
       "    <tr style=\"text-align: right;\">\n",
       "      <th></th>\n",
       "      <th>Preprocessing</th>\n",
       "      <th>Model</th>\n",
       "      <th>Precision</th>\n",
       "      <th>Recall</th>\n",
       "      <th>F1-score</th>\n",
       "      <th>Accuracy</th>\n",
       "    </tr>\n",
       "  </thead>\n",
       "  <tbody>\n",
       "    <tr>\n",
       "      <th>0</th>\n",
       "      <td>Count Vectorize</td>\n",
       "      <td>Naive Bayes</td>\n",
       "      <td>0.051076</td>\n",
       "      <td>0.021538</td>\n",
       "      <td>0.029592</td>\n",
       "      <td>0.021538</td>\n",
       "    </tr>\n",
       "    <tr>\n",
       "      <th>1</th>\n",
       "      <td>Count Vectorize</td>\n",
       "      <td>Naive Bayes</td>\n",
       "      <td>0.856746</td>\n",
       "      <td>0.226667</td>\n",
       "      <td>0.357437</td>\n",
       "      <td>0.226667</td>\n",
       "    </tr>\n",
       "    <tr>\n",
       "      <th>2</th>\n",
       "      <td>Count Vectorize</td>\n",
       "      <td>LightGBM</td>\n",
       "      <td>1.000000</td>\n",
       "      <td>0.224615</td>\n",
       "      <td>0.366834</td>\n",
       "      <td>0.224615</td>\n",
       "    </tr>\n",
       "    <tr>\n",
       "      <th>3</th>\n",
       "      <td>TF-IDF 1-grams</td>\n",
       "      <td>Naive Bayes</td>\n",
       "      <td>0.785291</td>\n",
       "      <td>0.225641</td>\n",
       "      <td>0.350064</td>\n",
       "      <td>0.225641</td>\n",
       "    </tr>\n",
       "    <tr>\n",
       "      <th>4</th>\n",
       "      <td>TF-IDF 1-grams</td>\n",
       "      <td>Naive Bayes</td>\n",
       "      <td>0.986971</td>\n",
       "      <td>0.427692</td>\n",
       "      <td>0.547707</td>\n",
       "      <td>0.427692</td>\n",
       "    </tr>\n",
       "    <tr>\n",
       "      <th>5</th>\n",
       "      <td>TF-IDF 1-grams</td>\n",
       "      <td>LightGBM</td>\n",
       "      <td>0.972884</td>\n",
       "      <td>0.410256</td>\n",
       "      <td>0.522465</td>\n",
       "      <td>0.410256</td>\n",
       "    </tr>\n",
       "    <tr>\n",
       "      <th>6</th>\n",
       "      <td>Word2vec</td>\n",
       "      <td>Naive Bayes</td>\n",
       "      <td>0.975548</td>\n",
       "      <td>0.218462</td>\n",
       "      <td>0.351947</td>\n",
       "      <td>0.218462</td>\n",
       "    </tr>\n",
       "  </tbody>\n",
       "</table>\n",
       "</div>"
      ],
      "text/plain": [
       "     Preprocessing        Model  Precision    Recall  F1-score  Accuracy\n",
       "0  Count Vectorize  Naive Bayes   0.051076  0.021538  0.029592  0.021538\n",
       "1  Count Vectorize  Naive Bayes   0.856746  0.226667  0.357437  0.226667\n",
       "2  Count Vectorize     LightGBM   1.000000  0.224615  0.366834  0.224615\n",
       "3   TF-IDF 1-grams  Naive Bayes   0.785291  0.225641  0.350064  0.225641\n",
       "4   TF-IDF 1-grams  Naive Bayes   0.986971  0.427692  0.547707  0.427692\n",
       "5   TF-IDF 1-grams     LightGBM   0.972884  0.410256  0.522465  0.410256\n",
       "6         Word2vec  Naive Bayes   0.975548  0.218462  0.351947  0.218462"
      ]
     },
     "execution_count": 44,
     "metadata": {},
     "output_type": "execute_result"
    }
   ],
   "source": [
    "smote_result"
   ]
  },
  {
   "cell_type": "markdown",
   "id": "3d512c58",
   "metadata": {
    "papermill": {
     "duration": 0.106251,
     "end_time": "2021-07-21T09:53:25.180819",
     "exception": false,
     "start_time": "2021-07-21T09:53:25.074568",
     "status": "completed"
    },
    "tags": []
   },
   "source": [
    "SMOTE generated oversampling procedur gave a huge leap in quality. More importantly - the quality have got gain in every direction, including noth precision and recall\n",
    "\n",
    "## 10.4 Oversampling ADASYN\n",
    "\n",
    "For oversampling algorithm check how many observation the algorithm generates"
   ]
  },
  {
   "cell_type": "code",
   "execution_count": 45,
   "id": "3a8ecc8c",
   "metadata": {
    "execution": {
     "iopub.execute_input": "2021-07-21T09:53:25.399083Z",
     "iopub.status.busy": "2021-07-21T09:53:25.398348Z",
     "iopub.status.idle": "2021-07-21T09:53:27.699004Z",
     "shell.execute_reply": "2021-07-21T09:53:27.698471Z",
     "shell.execute_reply.started": "2021-07-21T09:37:53.263904Z"
    },
    "papermill": {
     "duration": 2.413613,
     "end_time": "2021-07-21T09:53:27.699186",
     "exception": false,
     "start_time": "2021-07-21T09:53:25.285573",
     "status": "completed"
    },
    "tags": []
   },
   "outputs": [
    {
     "name": "stdout",
     "output_type": "stream",
     "text": [
      "Initial set observations 3894\n",
      "Initial set target classes 12\n",
      "Modified set observations 4908\n",
      "Modified set target classes 12\n"
     ]
    }
   ],
   "source": [
    "adasyn_over_sample = ADASYN(sampling_strategy='minority')\n",
    "X, y = BOW(data_100)\n",
    "print(f\"Initial set observations {X.shape[0]}\")\n",
    "print(f\"Initial set target classes {len(set(y))}\")\n",
    "X, y = adasyn_over_sample.fit_resample(X, y)\n",
    "print(f\"Modified set observations {X.shape[0]}\")\n",
    "print(f\"Modified set target classes {len(set(y))}\")"
   ]
  },
  {
   "cell_type": "code",
   "execution_count": 46,
   "id": "524886ac",
   "metadata": {
    "execution": {
     "iopub.execute_input": "2021-07-21T09:53:27.924337Z",
     "iopub.status.busy": "2021-07-21T09:53:27.923622Z",
     "iopub.status.idle": "2021-07-21T09:54:36.336551Z",
     "shell.execute_reply": "2021-07-21T09:54:36.337089Z",
     "shell.execute_reply.started": "2021-07-21T09:38:19.939004Z"
    },
    "papermill": {
     "duration": 68.533606,
     "end_time": "2021-07-21T09:54:36.337336",
     "exception": false,
     "start_time": "2021-07-21T09:53:27.803730",
     "status": "completed"
    },
    "tags": []
   },
   "outputs": [],
   "source": [
    "# DataFrame for result evaluation\n",
    "\n",
    "adasyn_result = pd.DataFrame(columns = ['Preprocessing', 'Model', 'Precision', 'Recall', 'F1-score', 'Accuracy'])\n",
    "\n",
    "adasyn_over_sample = ADASYN(sampling_strategy='minority')\n",
    "\n",
    "# Testing Count Vectorizer\n",
    "\n",
    "X, y = BOW(data_100)\n",
    "X, y = adasyn_over_sample.fit_resample(X, y)\n",
    "X_train, X_test, y_train, y_test = train_test_split(X, y, test_size=0.2, random_state=40)\n",
    "adasyn_result = adasyn_result.append(training_naive(X_train, X_test, y_train, y_test, 'Count Vectorize'), ignore_index = True)\n",
    "adasyn_result = adasyn_result.append(training_logreg(X_train, X_test, y_train, y_test, 'Count Vectorize'), ignore_index = True)\n",
    "adasyn_result = adasyn_result.append(training_lgbm(X_train, X_test, y_train, y_test, 'Count Vectorize'), ignore_index = True)\n",
    "\n",
    "# Testing TF-IDF with 1-gram\n",
    "\n",
    "X, y = tfidf(data_100, ngrams = 1)\n",
    "X, y = adasyn_over_sample.fit_resample(X, y)\n",
    "X_train, X_test, y_train, y_test = train_test_split(X, y, test_size=0.2, random_state=40)\n",
    "adasyn_result = adasyn_result.append(training_naive(X_train, X_test, y_train, y_test, 'TF-IDF 1-grams'), ignore_index = True)\n",
    "adasyn_result = adasyn_result.append(training_logreg(X_train, X_test, y_train, y_test, 'TF-IDF 1-grams'), ignore_index = True)\n",
    "adasyn_result = adasyn_result.append(training_lgbm(X_train, X_test, y_train, y_test, 'TF-IDF 1-grams'), ignore_index = True)\n",
    "\n",
    "# Testing Word2vec\n",
    "\n",
    "X, y = w2v(data_100)\n",
    "X, y = adasyn_over_sample.fit_resample(X, y)\n",
    "X_train, X_test, y_train, y_test = train_test_split(X, y, test_size=0.2, random_state=40)\n",
    "adasyn_result = adasyn_result.append(training_logreg(X_train, X_test, y_train, y_test, 'Word2vec'), ignore_index = True)"
   ]
  },
  {
   "cell_type": "code",
   "execution_count": 47,
   "id": "5525f1ad",
   "metadata": {
    "execution": {
     "iopub.execute_input": "2021-07-21T09:54:36.606012Z",
     "iopub.status.busy": "2021-07-21T09:54:36.605281Z",
     "iopub.status.idle": "2021-07-21T09:54:36.611176Z",
     "shell.execute_reply": "2021-07-21T09:54:36.609957Z",
     "shell.execute_reply.started": "2021-07-21T09:39:30.813137Z"
    },
    "papermill": {
     "duration": 0.128004,
     "end_time": "2021-07-21T09:54:36.611375",
     "exception": false,
     "start_time": "2021-07-21T09:54:36.483371",
     "status": "completed"
    },
    "tags": []
   },
   "outputs": [
    {
     "data": {
      "text/html": [
       "<div>\n",
       "<style scoped>\n",
       "    .dataframe tbody tr th:only-of-type {\n",
       "        vertical-align: middle;\n",
       "    }\n",
       "\n",
       "    .dataframe tbody tr th {\n",
       "        vertical-align: top;\n",
       "    }\n",
       "\n",
       "    .dataframe thead th {\n",
       "        text-align: right;\n",
       "    }\n",
       "</style>\n",
       "<table border=\"1\" class=\"dataframe\">\n",
       "  <thead>\n",
       "    <tr style=\"text-align: right;\">\n",
       "      <th></th>\n",
       "      <th>Preprocessing</th>\n",
       "      <th>Model</th>\n",
       "      <th>Precision</th>\n",
       "      <th>Recall</th>\n",
       "      <th>F1-score</th>\n",
       "      <th>Accuracy</th>\n",
       "    </tr>\n",
       "  </thead>\n",
       "  <tbody>\n",
       "    <tr>\n",
       "      <th>0</th>\n",
       "      <td>Count Vectorize</td>\n",
       "      <td>Naive Bayes</td>\n",
       "      <td>0.776678</td>\n",
       "      <td>0.235234</td>\n",
       "      <td>0.361101</td>\n",
       "      <td>0.235234</td>\n",
       "    </tr>\n",
       "    <tr>\n",
       "      <th>1</th>\n",
       "      <td>Count Vectorize</td>\n",
       "      <td>Naive Bayes</td>\n",
       "      <td>0.820368</td>\n",
       "      <td>0.237271</td>\n",
       "      <td>0.367560</td>\n",
       "      <td>0.237271</td>\n",
       "    </tr>\n",
       "    <tr>\n",
       "      <th>2</th>\n",
       "      <td>Count Vectorize</td>\n",
       "      <td>LightGBM</td>\n",
       "      <td>1.000000</td>\n",
       "      <td>0.236253</td>\n",
       "      <td>0.382208</td>\n",
       "      <td>0.236253</td>\n",
       "    </tr>\n",
       "    <tr>\n",
       "      <th>3</th>\n",
       "      <td>TF-IDF 1-grams</td>\n",
       "      <td>Naive Bayes</td>\n",
       "      <td>0.780723</td>\n",
       "      <td>0.237271</td>\n",
       "      <td>0.363481</td>\n",
       "      <td>0.237271</td>\n",
       "    </tr>\n",
       "    <tr>\n",
       "      <th>4</th>\n",
       "      <td>TF-IDF 1-grams</td>\n",
       "      <td>Naive Bayes</td>\n",
       "      <td>0.984988</td>\n",
       "      <td>0.436864</td>\n",
       "      <td>0.556071</td>\n",
       "      <td>0.436864</td>\n",
       "    </tr>\n",
       "    <tr>\n",
       "      <th>5</th>\n",
       "      <td>TF-IDF 1-grams</td>\n",
       "      <td>LightGBM</td>\n",
       "      <td>0.977667</td>\n",
       "      <td>0.427699</td>\n",
       "      <td>0.540830</td>\n",
       "      <td>0.427699</td>\n",
       "    </tr>\n",
       "    <tr>\n",
       "      <th>6</th>\n",
       "      <td>Word2vec</td>\n",
       "      <td>Naive Bayes</td>\n",
       "      <td>0.974696</td>\n",
       "      <td>0.219938</td>\n",
       "      <td>0.351502</td>\n",
       "      <td>0.219938</td>\n",
       "    </tr>\n",
       "  </tbody>\n",
       "</table>\n",
       "</div>"
      ],
      "text/plain": [
       "     Preprocessing        Model  Precision    Recall  F1-score  Accuracy\n",
       "0  Count Vectorize  Naive Bayes   0.776678  0.235234  0.361101  0.235234\n",
       "1  Count Vectorize  Naive Bayes   0.820368  0.237271  0.367560  0.237271\n",
       "2  Count Vectorize     LightGBM   1.000000  0.236253  0.382208  0.236253\n",
       "3   TF-IDF 1-grams  Naive Bayes   0.780723  0.237271  0.363481  0.237271\n",
       "4   TF-IDF 1-grams  Naive Bayes   0.984988  0.436864  0.556071  0.436864\n",
       "5   TF-IDF 1-grams     LightGBM   0.977667  0.427699  0.540830  0.427699\n",
       "6         Word2vec  Naive Bayes   0.974696  0.219938  0.351502  0.219938"
      ]
     },
     "execution_count": 47,
     "metadata": {},
     "output_type": "execute_result"
    }
   ],
   "source": [
    "adasyn_result"
   ]
  },
  {
   "cell_type": "markdown",
   "id": "16106243",
   "metadata": {
    "papermill": {
     "duration": 0.106206,
     "end_time": "2021-07-21T09:54:36.824982",
     "exception": false,
     "start_time": "2021-07-21T09:54:36.718776",
     "status": "completed"
    },
    "tags": []
   },
   "source": [
    "ADASYN algorithm have shown approximately the same results as SMOTE. But still it's slightly worse. So we will keep to SMOTE.\n",
    "\n",
    "## 11. Best model result analysis\n",
    "Best model of all we have received is word2vec on SMOTE trained on Logistic Regression.\n",
    "\n",
    "Let's look at its confusion matrix."
   ]
  },
  {
   "cell_type": "code",
   "execution_count": 48,
   "id": "3e7631d4",
   "metadata": {
    "execution": {
     "iopub.execute_input": "2021-07-21T09:54:37.042035Z",
     "iopub.status.busy": "2021-07-21T09:54:37.041080Z",
     "iopub.status.idle": "2021-07-21T09:55:31.216323Z",
     "shell.execute_reply": "2021-07-21T09:55:31.217290Z",
     "shell.execute_reply.started": "2021-07-21T09:39:30.839761Z"
    },
    "papermill": {
     "duration": 54.285799,
     "end_time": "2021-07-21T09:55:31.217592",
     "exception": false,
     "start_time": "2021-07-21T09:54:36.931793",
     "status": "completed"
    },
    "tags": []
   },
   "outputs": [],
   "source": [
    "X, y = w2v(data_100)\n",
    "X, y = smote_over_sample.fit_resample(X, y)\n",
    "X_train_smote, X_test_smote, y_train_smote, y_test_smote = train_test_split(X, y, test_size=0.2, random_state=40)\n",
    "clf_w2v_smote = LogisticRegressionCV(cv = folds, solver = 'saga', multi_class = 'multinomial', n_jobs = -1)\n",
    "clf_w2v_smote.fit(X_train_smote, y_train_smote)\n",
    "y_pred = clf_w2v_smote.predict(X_test_smote)"
   ]
  },
  {
   "cell_type": "code",
   "execution_count": 49,
   "id": "20d78329",
   "metadata": {
    "execution": {
     "iopub.execute_input": "2021-07-21T09:55:31.537099Z",
     "iopub.status.busy": "2021-07-21T09:55:31.485355Z",
     "iopub.status.idle": "2021-07-21T09:55:32.617684Z",
     "shell.execute_reply": "2021-07-21T09:55:32.618253Z",
     "shell.execute_reply.started": "2021-07-21T09:40:26.299283Z"
    },
    "papermill": {
     "duration": 1.243551,
     "end_time": "2021-07-21T09:55:32.618443",
     "exception": false,
     "start_time": "2021-07-21T09:55:31.374892",
     "status": "completed"
    },
    "tags": []
   },
   "outputs": [
    {
     "data": {
      "image/png": "[encoded data removed]",
      "text/plain": [
       "<Figure size 1152x1152 with 2 Axes>"
      ]
     },
     "metadata": {
      "needs_background": "light"
     },
     "output_type": "display_data"
    }
   ],
   "source": [
    "cm = confusion_matrix(y_test_smote, y_pred)\n",
    "fig = plt.figure(figsize=(16, 16))\n",
    "plot = plot_confusion_matrix(cm, classes=classes, normalize=False, \n",
    "                             title='Confusion matrix')\n",
    "plt.show()\n"
   ]
  },
  {
   "cell_type": "markdown",
   "id": "de264f02",
   "metadata": {
    "papermill": {
     "duration": 0.104819,
     "end_time": "2021-07-21T09:55:32.829320",
     "exception": false,
     "start_time": "2021-07-21T09:55:32.724501",
     "status": "completed"
    },
    "tags": []
   },
   "source": [
    "Result metrics for each class"
   ]
  },
  {
   "cell_type": "code",
   "execution_count": 50,
   "id": "79a0df9e",
   "metadata": {
    "execution": {
     "iopub.execute_input": "2021-07-21T09:55:33.051100Z",
     "iopub.status.busy": "2021-07-21T09:55:33.050409Z",
     "iopub.status.idle": "2021-07-21T09:55:33.075693Z",
     "shell.execute_reply": "2021-07-21T09:55:33.075118Z",
     "shell.execute_reply.started": "2021-07-21T09:40:27.554685Z"
    },
    "papermill": {
     "duration": 0.140445,
     "end_time": "2021-07-21T09:55:33.075850",
     "exception": false,
     "start_time": "2021-07-21T09:55:32.935405",
     "status": "completed"
    },
    "tags": []
   },
   "outputs": [
    {
     "data": {
      "text/html": [
       "<div>\n",
       "<style scoped>\n",
       "    .dataframe tbody tr th:only-of-type {\n",
       "        vertical-align: middle;\n",
       "    }\n",
       "\n",
       "    .dataframe tbody tr th {\n",
       "        vertical-align: top;\n",
       "    }\n",
       "\n",
       "    .dataframe thead th {\n",
       "        text-align: right;\n",
       "    }\n",
       "</style>\n",
       "<table border=\"1\" class=\"dataframe\">\n",
       "  <thead>\n",
       "    <tr style=\"text-align: right;\">\n",
       "      <th></th>\n",
       "      <th>Labels</th>\n",
       "      <th>Recall</th>\n",
       "      <th>Precision</th>\n",
       "      <th>F1-score</th>\n",
       "    </tr>\n",
       "  </thead>\n",
       "  <tbody>\n",
       "    <tr>\n",
       "      <th>0</th>\n",
       "      <td>Cardiovascular / Pulmonary</td>\n",
       "      <td>0.000000</td>\n",
       "      <td>0.000000</td>\n",
       "      <td>0.000000</td>\n",
       "    </tr>\n",
       "    <tr>\n",
       "      <th>1</th>\n",
       "      <td>Consult - History and Phy.</td>\n",
       "      <td>0.000000</td>\n",
       "      <td>0.000000</td>\n",
       "      <td>0.000000</td>\n",
       "    </tr>\n",
       "    <tr>\n",
       "      <th>2</th>\n",
       "      <td>Discharge Summary</td>\n",
       "      <td>0.500000</td>\n",
       "      <td>0.013699</td>\n",
       "      <td>0.026667</td>\n",
       "    </tr>\n",
       "    <tr>\n",
       "      <th>3</th>\n",
       "      <td>Gastroenterology</td>\n",
       "      <td>0.000000</td>\n",
       "      <td>0.000000</td>\n",
       "      <td>0.000000</td>\n",
       "    </tr>\n",
       "    <tr>\n",
       "      <th>4</th>\n",
       "      <td>General Medicine</td>\n",
       "      <td>0.000000</td>\n",
       "      <td>0.000000</td>\n",
       "      <td>0.000000</td>\n",
       "    </tr>\n",
       "    <tr>\n",
       "      <th>5</th>\n",
       "      <td>Neurology</td>\n",
       "      <td>0.125000</td>\n",
       "      <td>0.020408</td>\n",
       "      <td>0.035088</td>\n",
       "    </tr>\n",
       "    <tr>\n",
       "      <th>6</th>\n",
       "      <td>Obstetrics / Gynecology</td>\n",
       "      <td>0.000000</td>\n",
       "      <td>0.000000</td>\n",
       "      <td>0.000000</td>\n",
       "    </tr>\n",
       "    <tr>\n",
       "      <th>7</th>\n",
       "      <td>Orthopedic</td>\n",
       "      <td>0.000000</td>\n",
       "      <td>0.000000</td>\n",
       "      <td>0.000000</td>\n",
       "    </tr>\n",
       "    <tr>\n",
       "      <th>8</th>\n",
       "      <td>Radiology</td>\n",
       "      <td>0.000000</td>\n",
       "      <td>0.000000</td>\n",
       "      <td>0.000000</td>\n",
       "    </tr>\n",
       "    <tr>\n",
       "      <th>9</th>\n",
       "      <td>SOAP / Chart / Progress Notes</td>\n",
       "      <td>0.000000</td>\n",
       "      <td>0.000000</td>\n",
       "      <td>0.000000</td>\n",
       "    </tr>\n",
       "    <tr>\n",
       "      <th>10</th>\n",
       "      <td>Surgery</td>\n",
       "      <td>0.217482</td>\n",
       "      <td>0.990521</td>\n",
       "      <td>0.356655</td>\n",
       "    </tr>\n",
       "    <tr>\n",
       "      <th>11</th>\n",
       "      <td>Urology</td>\n",
       "      <td>0.000000</td>\n",
       "      <td>0.000000</td>\n",
       "      <td>0.000000</td>\n",
       "    </tr>\n",
       "  </tbody>\n",
       "</table>\n",
       "</div>"
      ],
      "text/plain": [
       "                            Labels    Recall  Precision  F1-score\n",
       "0       Cardiovascular / Pulmonary  0.000000   0.000000  0.000000\n",
       "1       Consult - History and Phy.  0.000000   0.000000  0.000000\n",
       "2                Discharge Summary  0.500000   0.013699  0.026667\n",
       "3                 Gastroenterology  0.000000   0.000000  0.000000\n",
       "4                 General Medicine  0.000000   0.000000  0.000000\n",
       "5                        Neurology  0.125000   0.020408  0.035088\n",
       "6          Obstetrics / Gynecology  0.000000   0.000000  0.000000\n",
       "7                       Orthopedic  0.000000   0.000000  0.000000\n",
       "8                        Radiology  0.000000   0.000000  0.000000\n",
       "9    SOAP / Chart / Progress Notes  0.000000   0.000000  0.000000\n",
       "10                         Surgery  0.217482   0.990521  0.356655\n",
       "11                         Urology  0.000000   0.000000  0.000000"
      ]
     },
     "execution_count": 50,
     "metadata": {},
     "output_type": "execute_result"
    }
   ],
   "source": [
    "final_metrics = pd.DataFrame({'Labels': range(12), \n",
    "                              'Recall': recall_score(y_pred, y_test_smote, average = None),\n",
    "                             'Precision': precision_score(y_pred, y_test_smote, average = None),\n",
    "                             'F1-score': f1_score(y_pred, y_test_smote, average = None)})\n",
    "final_metrics['Labels'] = final_metrics['Labels'].replace(label_to_text)\n",
    "final_metrics"
   ]
  },
  {
   "cell_type": "code",
   "execution_count": null,
   "id": "9031c859",
   "metadata": {
    "papermill": {
     "duration": 0.105946,
     "end_time": "2021-07-21T09:55:33.292178",
     "exception": false,
     "start_time": "2021-07-21T09:55:33.186232",
     "status": "completed"
    },
    "tags": []
   },
   "outputs": [],
   "source": []
  }
 ],
 "metadata": {
  "kernelspec": {
   "display_name": "Python 3",
   "language": "python",
   "name": "python3"
  },
  "language_info": {
   "codemirror_mode": {
    "name": "ipython",
    "version": 3
   },
   "file_extension": ".py",
   "mimetype": "text/x-python",
   "name": "python",
   "nbconvert_exporter": "python",
   "pygments_lexer": "ipython3",
   "version": "3.7.10"
  },
  "papermill": {
   "default_parameters": {},
   "duration": 848.315347,
   "end_time": "2021-07-21T09:55:36.470206",
   "environment_variables": {},
   "exception": null,
   "input_path": "__notebook__.ipynb",
   "output_path": "__notebook__.ipynb",
   "parameters": {},
   "start_time": "2021-07-21T09:41:28.154859",
   "version": "2.3.3"
  }
 },
 "nbformat": 4,
 "nbformat_minor": 5
}
